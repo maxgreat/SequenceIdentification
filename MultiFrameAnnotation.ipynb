{
 "cells": [
  {
   "cell_type": "code",
   "execution_count": 1,
   "metadata": {
    "collapsed": true,
    "deletable": true,
    "editable": true
   },
   "outputs": [],
   "source": [
    "from __future__ import print_function"
   ]
  },
  {
   "cell_type": "code",
   "execution_count": 2,
   "metadata": {
    "collapsed": true,
    "deletable": true,
    "editable": true
   },
   "outputs": [],
   "source": [
    "import torch\n",
    "\n",
    "import cv2\n",
    "\n",
    "import torch.optim as optim\n",
    "import torch.nn as nn\n",
    "\n",
    "import sys\n",
    "\n",
    "import torchvision.transforms as transforms\n",
    "from torch.autograd import Variable\n",
    "import random\n",
    "\n",
    "from torchvision import models\n",
    "import os\n",
    "os.environ['CUDA_VISIBLE_DEVICES'] = '1'"
   ]
  },
  {
   "cell_type": "code",
   "execution_count": 11,
   "metadata": {
    "collapsed": false,
    "deletable": true,
    "editable": true,
    "scrolled": true
   },
   "outputs": [
    {
     "name": "stdout",
     "output_type": "stream",
     "text": [
      "[NbConvertApp] Converting notebook models/MultiFrameCNN.ipynb to python\n",
      "[NbConvertApp] Writing 9935 bytes to models/MultiFrameCNN.py\n"
     ]
    },
    {
     "data": {
      "text/plain": [
       "<module 'models.MultiFrameCNN' from 'models/MultiFrameCNN.py'>"
      ]
     },
     "execution_count": 11,
     "metadata": {},
     "output_type": "execute_result"
    }
   ],
   "source": [
    "!jupyter nbconvert --to python models/MultiFrameCNN.ipynb\n",
    "from models import MultiFrameCNN\n",
    "reload(MultiFrameCNN)"
   ]
  },
  {
   "cell_type": "code",
   "execution_count": 5,
   "metadata": {
    "collapsed": false,
    "deletable": true,
    "editable": true,
    "scrolled": true
   },
   "outputs": [
    {
     "name": "stdout",
     "output_type": "stream",
     "text": [
      "[NbConvertApp] Converting notebook dataset/VideoSequenceDataset.ipynb to python\n",
      "[NbConvertApp] Writing 6383 bytes to dataset/VideoSequenceDataset.py\n"
     ]
    },
    {
     "data": {
      "text/plain": [
       "<module 'dataset.VideoSequenceDataset' from 'dataset/VideoSequenceDataset.pyc'>"
      ]
     },
     "execution_count": 5,
     "metadata": {},
     "output_type": "execute_result"
    }
   ],
   "source": [
    "!jupyter nbconvert --to python dataset/VideoSequenceDataset.ipynb\n",
    "from dataset import VideoSequenceDataset\n",
    "reload(VideoSequenceDataset)"
   ]
  },
  {
   "cell_type": "code",
   "execution_count": 6,
   "metadata": {
    "collapsed": true,
    "deletable": true,
    "editable": true
   },
   "outputs": [],
   "source": [
    "def test(model, testDataset, cuda=True):\n",
    "    model.eval()\n",
    "    tot = 0\n",
    "    cor = 0\n",
    "    for i, (batch, labels) in enumerate(testDataset):\n",
    "        if cuda:\n",
    "            batch = batch.cuda()\n",
    "            labels = labels.cuda()\n",
    "        outputs=model(Variable(batch))\n",
    "        _, pred = torch.max(outputs.data, 1)\n",
    "        tot += labels.size(0)\n",
    "        cor += (pred == labels).sum()\n",
    "        \n",
    "    print(cor, \"/\", tot, \" : \", cor*1.0/tot*100, \"%\")\n",
    "    "
   ]
  },
  {
   "cell_type": "code",
   "execution_count": 7,
   "metadata": {
    "collapsed": false,
    "deletable": true,
    "editable": true
   },
   "outputs": [],
   "source": [
    "def train(model, optimizer, trainDataset, valDataset, trans, nbepoch=5, cuda=True):\n",
    "    #criterion = nn.CrossEntropyLoss(Variable(torch.Tensor([1/5.2,1/5.2,1/5.2,1/5.2,1/5.2,0.2/5.2])))\n",
    "    criterion = nn.CrossEntropyLoss()\n",
    "    if cuda:\n",
    "        model = model.cuda()\n",
    "    for epoch in range(nbepoch):\n",
    "        test(model, valDataset, cuda)\n",
    "        model.train()\n",
    "        lo = 0\n",
    "        for i, (batch,labels) in enumerate(trainDataset):\n",
    "            if cuda:\n",
    "                batch = batch.cuda()\n",
    "                labels = labels.cuda()\n",
    "            \n",
    "            outputs = model(Variable(batch))\n",
    "            #label = torch.LongTensor([gesture])\n",
    "            loss = criterion(outputs, Variable(labels))\n",
    "            optimizer.zero_grad()\n",
    "            loss.backward()\n",
    "            optimizer.step()\n",
    "            lo += loss.data[0]\n",
    "            if i%5 == 0:\n",
    "                print(lo/5.0)\n",
    "                lo = 0\n",
    "            if i%30 == 0:\n",
    "                test(model, valDataset, cuda)\n",
    "                model.train()"
   ]
  },
  {
   "cell_type": "code",
   "execution_count": 12,
   "metadata": {
    "collapsed": false,
    "deletable": true,
    "editable": true,
    "scrolled": true
   },
   "outputs": [],
   "source": [
    "#model = MultiFrameCNN.MultiFrameResNet(MultiFrameCNN.BasicBlock, [2,2,2,2], num_classes=6, groups=3)\n",
    "#model = MultiFrameCNN.DummyMultiFrame()\n",
    "model = MultiFrameCNN.MultiFrameCNN(nbClasse=6,nbFrame=3)\n",
    "#model.copyParameters(models.alexnet(pretrained=True))\n",
    "#model = models.AlexNet(num_classes=6)\n",
    "#model = model.cuda()"
   ]
  },
  {
   "cell_type": "code",
   "execution_count": 16,
   "metadata": {
    "collapsed": false,
    "deletable": true,
    "editable": true,
    "scrolled": true
   },
   "outputs": [],
   "source": [
    "trans = transforms.Compose(\n",
    "                (transforms.ToPILImage(),\n",
    "                transforms.Resize(64),\n",
    "                transforms.RandomCrop(64),\n",
    "                transforms.ToTensor(),\n",
    "                #transforms.Normalize(mean=[0.485, 0.456, 0.406,0.485, 0.456, 0.406,0.485, 0.456, 0.406],\n",
    "                #                     std=[0.229, 0.224, 0.225,0.229, 0.224, 0.225,0.229, 0.224, 0.225]),\n",
    "                )\n",
    "                )\n",
    "\n",
    "trainDataset = VideoSequenceDataset.VideoDataset(rep=\"/video/GestureSequence/\", SequenceSize=3, batchSize=4, transform=trans, \n",
    "                concat=True, dropFrame=2)\n",
    "\n",
    "#TODO create validation and test datasets !\n",
    "testDataset = VideoSequenceDataset.VideoDataset(rep=\"/video/GestureTest/\", SequenceSize=3, batchSize=4, transform=trans, \n",
    "            concat=True, dropFrame=2)\n",
    "\n",
    "optimizer = optim.SGD( model.parameters(),lr=0.001, momentum=0.9, weight_decay=0.0005)"
   ]
  },
  {
   "cell_type": "code",
   "execution_count": 17,
   "metadata": {
    "collapsed": false,
    "deletable": true,
    "editable": true
   },
   "outputs": [
    {
     "name": "stdout",
     "output_type": "stream",
     "text": [
      "6 / 24  :  25.0 %\n",
      "0.544179821014\n",
      "6 / 24  :  25.0 %\n",
      "2.09596662521\n",
      "1.25184092522\n",
      "1.22928540707\n",
      "1.77816448212\n",
      "1.3255613327\n",
      "1.73466391563\n",
      "5 / 24  :  20.8333333333 %\n",
      "1.34766045809\n",
      "1.47949767113\n",
      "1.15928448439\n",
      "1.56517037153\n",
      "1.15791354179\n",
      "1.28404269218\n",
      "6 / 24  :  25.0 %\n",
      "1.29331448078\n",
      "1.85867009163\n",
      "1.33957906961\n",
      "1.61266293526\n",
      "1.38341839314\n",
      "0.985290670395\n",
      "6 / 24  :  25.0 %\n",
      "1.12513067722\n",
      "1.18019281626\n",
      "1.30469191074\n",
      "1.16081725359\n",
      "1.26238734722\n",
      "0.928975987434\n",
      "6 / 24  :  25.0 %\n",
      "1.15145308971\n",
      "1.63523384333\n",
      "1.39794826508\n",
      "1.33256348372\n",
      "1.663380301\n",
      "1.24031990767\n",
      "5 / 24  :  20.8333333333 %\n",
      "1.53640521765\n",
      "1.19312403202\n",
      "1.00331333876\n",
      "1.37943968773\n",
      "1.47200133801\n",
      "1.23455315828\n",
      "5 / 24  :  20.8333333333 %\n",
      "1.68868405819\n",
      "1.3856251359\n",
      "0.999927949905\n",
      "1.37356500626\n",
      "0.889095890522\n",
      "1.149241364\n",
      "6 / 24  :  25.0 %\n",
      "1.31703211069\n",
      "1.35661904812\n",
      "6 / 24  :  25.0 %\n",
      "0.229866743088\n",
      "5 / 24  :  20.8333333333 %\n",
      "1.47329287529\n",
      "1.74772080183\n",
      "1.03896317482\n",
      "1.13697628975\n",
      "1.22142841816\n",
      "1.17533187866\n",
      "6 / 24  :  25.0 %\n",
      "1.51145300865\n",
      "1.11318302155\n",
      "1.58281078339\n",
      "1.28155076504\n",
      "1.52837001085\n",
      "1.50971781015\n",
      "6 / 24  :  25.0 %\n",
      "1.13267924786\n",
      "1.57358546257\n",
      "1.33072441816\n",
      "1.03131120205\n",
      "1.12880661488\n",
      "1.38989685774\n",
      "6 / 24  :  25.0 %\n",
      "1.1855183363\n",
      "1.12243294716\n",
      "1.1868745327\n",
      "1.6256829977\n",
      "1.2334620595\n",
      "1.94503910542\n",
      "5 / 24  :  20.8333333333 %\n",
      "1.11188278198\n",
      "1.04461672306\n",
      "1.49171074629\n",
      "1.02045348883\n",
      "0.949664223194\n",
      "1.16018365622\n",
      "5 / 24  :  20.8333333333 %\n",
      "1.34689947367\n",
      "1.52286205292\n",
      "1.61091361046\n",
      "1.38988833427\n",
      "1.54260854721\n",
      "1.56644935608\n",
      "4 / 24  :  16.6666666667 %\n",
      "1.20196074247\n",
      "1.27954411507\n",
      "1.55037581921\n",
      "1.35837156773\n",
      "0.94263522625\n",
      "1.24579048157\n",
      "5 / 24  :  20.8333333333 %\n",
      "1.41422120333\n",
      "1.72933683395\n",
      "6 / 24  :  25.0 %\n",
      "0.266643190384\n",
      "5 / 24  :  20.8333333333 %\n",
      "1.14657006264\n",
      "1.27280029058\n",
      "1.14302780628\n",
      "1.66211571693\n",
      "2.16253856421\n",
      "1.18696753979\n",
      "6 / 24  :  25.0 %\n",
      "1.28469735384\n",
      "1.11608645916\n",
      "1.55322480202\n",
      "1.2584911108\n",
      "1.35578508377\n",
      "1.64908723831\n",
      "5 / 24  :  20.8333333333 %\n",
      "1.04049268961\n",
      "1.61779147387\n",
      "1.03085898161\n",
      "1.28265619278\n",
      "1.12692601681\n",
      "1.52244195938\n",
      "6 / 24  :  25.0 %\n",
      "1.17858405113\n",
      "1.35290848017\n",
      "0.974664950371\n",
      "1.30594241619\n",
      "1.02432547808\n",
      "1.04939939976\n",
      "6 / 24  :  25.0 %\n",
      "1.29791083336\n",
      "1.55649600029\n",
      "1.63582851887\n",
      "1.01371445656\n",
      "1.04634087086\n",
      "0.940594875813\n",
      "6 / 24  :  25.0 %\n",
      "0.931219375134\n",
      "1.17969954014\n",
      "1.24396337271\n",
      "0.993940532207\n",
      "1.25770287514\n",
      "1.2413064599\n",
      "6 / 24  :  25.0 %\n",
      "1.61830106974\n",
      "1.44886701107\n",
      "0.998343873024\n",
      "2.00523682833\n",
      "1.7725471735\n",
      "1.05855058432\n",
      "6 / 24  :  25.0 %\n",
      "1.23467261791\n",
      "1.42544701099\n"
     ]
    }
   ],
   "source": [
    "train(model,optimizer,trainDataset,testDataset,trans, nbepoch=3, cuda=True)"
   ]
  },
  {
   "cell_type": "code",
   "execution_count": 43,
   "metadata": {
    "collapsed": true,
    "deletable": true,
    "editable": true
   },
   "outputs": [],
   "source": [
    "for i in trainDataset:\n",
    "    a = i\n",
    "    break"
   ]
  },
  {
   "cell_type": "code",
   "execution_count": 44,
   "metadata": {
    "collapsed": false,
    "deletable": true,
    "editable": true
   },
   "outputs": [
    {
     "data": {
      "text/plain": [
       "\n",
       " 4\n",
       " 5\n",
       " 4\n",
       " 2\n",
       "[torch.LongTensor of size 4]"
      ]
     },
     "execution_count": 44,
     "metadata": {},
     "output_type": "execute_result"
    }
   ],
   "source": [
    "a[1]"
   ]
  },
  {
   "cell_type": "code",
   "execution_count": 41,
   "metadata": {
    "collapsed": false,
    "deletable": true,
    "editable": true
   },
   "outputs": [],
   "source": [
    "from torchvision.utils import make_grid\n",
    "import matplotlib.pyplot as plt\n",
    "import numpy as np\n",
    "import random\n",
    "\n",
    "%matplotlib inline\n",
    "def show(img):\n",
    "    npimg = img.numpy()\n",
    "    plt.imshow(np.transpose(npimg, (1,2,0)), interpolation='nearest')"
   ]
  },
  {
   "cell_type": "code",
   "execution_count": 46,
   "metadata": {
    "collapsed": false,
    "deletable": true,
    "editable": true,
    "scrolled": true
   },
   "outputs": [
    {
     "data": {
      "image/png": "[encoded data removed]",
      "text/plain": [
       "<matplotlib.figure.Figure at 0x7f0c04560f50>"
      ]
     },
     "metadata": {},
     "output_type": "display_data"
    }
   ],
   "source": [
    "show(make_grid([a[0][0], a[0][1], a[0][2], a[0][3]], padding=1, normalize=False))"
   ]
  }
 ],
 "metadata": {
  "kernelspec": {
   "display_name": "Python 2",
   "language": "python",
   "name": "python2"
  },
  "language_info": {
   "codemirror_mode": {
    "name": "ipython",
    "version": 2
   },
   "file_extension": ".py",
   "mimetype": "text/x-python",
   "name": "python",
   "nbconvert_exporter": "python",
   "pygments_lexer": "ipython2",
   "version": "2.7.9"
  }
 },
 "nbformat": 4,
 "nbformat_minor": 2
}
