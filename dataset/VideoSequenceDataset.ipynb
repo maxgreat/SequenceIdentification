{
 "cells": [
  {
   "cell_type": "code",
   "execution_count": 4,
   "metadata": {
    "collapsed": true,
    "deletable": true,
    "editable": true
   },
   "outputs": [],
   "source": [
    "from __future__ import print_function"
   ]
  },
  {
   "cell_type": "code",
   "execution_count": 5,
   "metadata": {
    "collapsed": false,
    "deletable": true,
    "editable": true
   },
   "outputs": [
    {
     "name": "stdout",
     "output_type": "stream",
     "text": [
      "[NbConvertApp] Converting notebook Dataset.ipynb to python\n",
      "[NbConvertApp] Writing 3547 bytes to Dataset.py\n"
     ]
    }
   ],
   "source": [
    "!jupyter nbconvert --to python Dataset.ipynb\n",
    "from Dataset import GenericDatasetFromFile, GenericDataset"
   ]
  },
  {
   "cell_type": "code",
   "execution_count": 6,
   "metadata": {
    "collapsed": false,
    "deletable": true,
    "editable": true
   },
   "outputs": [],
   "source": [
    "import cv2\n",
    "import random\n",
    "import torch\n",
    "import torchvision.transforms as transforms\n",
    "import torch.utils.data as data"
   ]
  },
  {
   "cell_type": "code",
   "execution_count": 7,
   "metadata": {
    "collapsed": true,
    "deletable": true,
    "editable": true
   },
   "outputs": [],
   "source": [
    "import glob\n",
    "import os\n",
    "import shutil"
   ]
  },
  {
   "cell_type": "code",
   "execution_count": 8,
   "metadata": {
    "collapsed": true,
    "deletable": true,
    "editable": true
   },
   "outputs": [],
   "source": [
    "class videoFrameError(Exception):\n",
    "    \"\"\"\n",
    "        Raise when reading a non-existing frame in a video\n",
    "        Attribute : \n",
    "            videoName --- video name or path\n",
    "            frame     --- frame number\n",
    "    \"\"\"\n",
    "    def __init__(self, videoName, frame):\n",
    "        self.videoName = videoName\n",
    "        self.frame = frame\n",
    "    def __str__(self):\n",
    "        return repr(self.videoName) + repr(self.frame)"
   ]
  },
  {
   "cell_type": "code",
   "execution_count": 9,
   "metadata": {
    "collapsed": true,
    "deletable": true,
    "editable": true
   },
   "outputs": [],
   "source": [
    "def ReadRandomSequence(videoName, nbFrame, transform=transforms.ToTensor(), dropFrame=1):\n",
    "    \"\"\"\n",
    "        Read a nbFrame number of frame randomly in the video\n",
    "    \"\"\"\n",
    "    cap = cv2.VideoCapture(videoName)\n",
    "    if cv2.CAP_PROP_FRAME_COUNT - (nbFrame*dropFrame) < 0:\n",
    "        firstFrame=cv2.CAP_PROP_FRAME_COUNT\n",
    "    else:\n",
    "        firstFrame = random.randint(0, cap.get(cv2.CAP_PROP_FRAME_COUNT)- (nbFrame*dropFrame))\n",
    "    \n",
    "    ret = cap.set(cv2.CAP_PROP_POS_FRAMES,firstFrame) #go to first frame\n",
    "    cframe = firstFrame #current frame\n",
    "\n",
    "    if not ret:\n",
    "        raise videoFrameError(videoName, cframe)\n",
    "    t = torch.Tensor(nbFrame,3,225,225)\n",
    "    for i in range(nbFrame):\n",
    "        ret, frame = cap.read()\n",
    "        cframe += 1\n",
    "        if not ret:\n",
    "            raise videoFrameError(videoName, cframe)    \n",
    "        t[i] = transform(frame)\n",
    "    return t"
   ]
  },
  {
   "cell_type": "code",
   "execution_count": 10,
   "metadata": {
    "collapsed": true,
    "deletable": true,
    "editable": true
   },
   "outputs": [],
   "source": [
    "def addOpticalFlow(img, prevImg):\n",
    "    print(\"Img shape : \", img.shape)\n",
    "    print(\"prevImg shape : \", prevImg.shape)\n",
    "    f = cv2.cvtColor(prevImg,cv2.COLOR_BGR2GRAY)\n",
    "    nf = cv2.cvtColor(img,cv2.COLOR_BGR2GRAY)\n",
    "    oF = cv2.calcOpticalFlowFarneback(f,nf, None, 0.5, 3, 15, 3, 5, 1.2, 0)\n",
    "    return np.dstack((img,oF))"
   ]
  },
  {
   "cell_type": "code",
   "execution_count": 11,
   "metadata": {
    "collapsed": false,
    "deletable": true,
    "editable": true
   },
   "outputs": [],
   "source": [
    "def ReadNFrame(videoName, nbFrame, transform=None, dropFrame=0, opticalFlow=False):\n",
    "    \"\"\"\n",
    "        Read a nbFrame frame and concatenate them\n",
    "        \n",
    "        Input : videoName: path to video\n",
    "                nbFrame : number of frame to read\n",
    "                transform : transform to apply to each frame\n",
    "                dropFrame : number of frame to drop between each frame\n",
    "        \n",
    "    \"\"\"\n",
    "    cap = cv2.VideoCapture(videoName)\n",
    "    cap.set(cv2.CAP_PROP_CONVERT_RGB, True)\n",
    "    #verify video length\n",
    "    if cap.get(cv2.CAP_PROP_FRAME_COUNT) < (nbFrame*(dropFrame+1)-dropFrame):\n",
    "        print(\"Error in video Reading\", videoName, nbFrame)\n",
    "        print(\"This video only has \", cap.get(cv2.CAP_PROP_FRAME_COUNT), \"frames\")\n",
    "        raise videoFrameError(videoName, nbFrame)\n",
    "    \n",
    "    #find possible first frame\n",
    "    firstFrame = random.randint(0, cap.get(cv2.CAP_PROP_FRAME_COUNT)- (nbFrame*(dropFrame+1)-dropFrame))\n",
    "    ret, frame = cap.read() #save for image shape\n",
    "    ret = cap.set(cv2.CAP_PROP_POS_FRAMES,firstFrame) #go to first frame\n",
    "    cframe = firstFrame #current frame\n",
    "\n",
    "    if not ret:\n",
    "        print(\"Error in video Reading\", videoName, cframe)\n",
    "        print(\"This video only has \", cap.get(cv2.CAP_PROP_FRAME_COUNT), \"frames\")\n",
    "        raise videoFrameError(videoName, cframe)\n",
    "        \n",
    "    imBase = transform(frame)\n",
    "    if opticalFlow:\n",
    "        t = torch.Tensor(nbFrame,5,imBase.size(1),imBase.size(2))\n",
    "    else:    \n",
    "        t = torch.Tensor(nbFrame,3,imBase.size(1),imBase.size(2))\n",
    "        \n",
    "    for i in range(nbFrame):\n",
    "        ret, frame = cap.read()\n",
    "        if opticalFlow and i == 0:\n",
    "            prevFrame = frame.copy()\n",
    "        cframe += 1\n",
    "        if not ret:\n",
    "            raise videoFrameError(videoName, cframe)    \n",
    "        \n",
    "        if opticalFlow:\n",
    "            frame = addOpticalFlow(frame, prevFrame)\n",
    "            prevFrame = frame.copy()\n",
    "        \n",
    "        t[i] = transform(frame)\n",
    "        j = 0\n",
    "        while j < dropFrame:\n",
    "            ret, frame = cap.read()\n",
    "            j += 1\n",
    "        \n",
    "    return t.view(t.size(0)*t.size(1), t.size(2), t.size(3))"
   ]
  },
  {
   "cell_type": "code",
   "execution_count": 12,
   "metadata": {
    "collapsed": false,
    "deletable": true,
    "editable": true
   },
   "outputs": [],
   "source": [
    "def __readNImages(directory, nbImages, transform, drop=0):\n",
    "    if nbImages == 0:\n",
    "        raise Exception(\"nbImages cannot be zero\")\n",
    "    import PIL\n",
    "    t = torch.Tensor(nbImages,3,224,224)\n",
    "    d = 0\n",
    "    imSaved = 0\n",
    "    imList = sorted(os.listdir(directory))\n",
    "    for i, im in enumerate(imList):\n",
    "        im = os.path.join(directory, im)\n",
    "        if d < drop:\n",
    "            d += 1\n",
    "        else:\n",
    "            if d == drop:\n",
    "                d = 0\n",
    "            img = PIL.Image.open(im)\n",
    "            t[imSaved] = transform(img)\n",
    "            imSaved += 1\n",
    "        if imSaved == nbImages:\n",
    "            break\n",
    "    return t.view(t.size(0)*t.size(1), t.size(2), t.size(3))"
   ]
  },
  {
   "cell_type": "code",
   "execution_count": 13,
   "metadata": {
    "collapsed": false,
    "deletable": true,
    "editable": true
   },
   "outputs": [],
   "source": [
    "def VideoDataset(rep=\"/video/GestureSequence/\", SequenceSize=5, batchSize=4, transform=None, \n",
    "            concat=False, dropFrame=1, opticalFlow=False):\n",
    "    \n",
    "    \n",
    "    if concat:\n",
    "        openFile = lambda x:ReadNFrame(x,SequenceSize,transform, dropFrame,opticalFlow=opticalFlow)\n",
    "    else:\n",
    "        openFile = lambda x:ReadRandomSequence(x,SequenceSize,transform, dropFrame, opticalFlow=opticalFlow)\n",
    "    \n",
    "    targetOperation = lambda x:int(x)\n",
    "    \n",
    "    videodataset = GenericDataset(rep, fileOperation=openFile, targetOperation=targetOperation)\n",
    "    data_loader = data.DataLoader(videodataset,\n",
    "                                          batch_size=batchSize,\n",
    "                                          shuffle=True,\n",
    "                                          num_workers=4,\n",
    "                                          drop_last=True\n",
    "                                )\n",
    "    return data_loader"
   ]
  },
  {
   "cell_type": "code",
   "execution_count": 14,
   "metadata": {
    "collapsed": true,
    "deletable": true,
    "editable": true
   },
   "outputs": [],
   "source": [
    "def _readLabels(fName=\"/video/twentybn/jester-v1-labels.csv\"):\n",
    "    labs = {}\n",
    "    with open(fName) as f:\n",
    "        for i, l in enumerate(f.read().splitlines()):\n",
    "            labs[l] = i\n",
    "    return labs"
   ]
  },
  {
   "cell_type": "code",
   "execution_count": 15,
   "metadata": {
    "collapsed": false,
    "deletable": true,
    "editable": true
   },
   "outputs": [],
   "source": [
    "def twentybnDataset(nbFrames=3,\n",
    "                    batch=4,\n",
    "                    transform = transforms.Compose((\n",
    "                        transforms.Resize(224),\n",
    "                        transforms.RandomCrop(224),\n",
    "                        transforms.ToTensor())),\n",
    "                    rep=\"/video/twentybn/20bn-jester-v1/\", \n",
    "                    trainFile=\"/video/twentybn/jester-v1-train.csv\", \n",
    "                    validationFile=\"/video/twentybn/jester-v1-validation.csv\",\n",
    "                    labelsFile=\"/video/twentybn/jester-v1-labels.csv\",\n",
    "                    dropFrame=0):\n",
    "    \"\"\"\n",
    "        Load twentybn dataset\n",
    "        Return tain dataLoader, validation dataLoader and test dataLoader \n",
    "    \"\"\"       \n",
    "    \n",
    "    labels = _readLabels(labelsFile)\n",
    "    \n",
    "    baseDir          = rep\n",
    "    parsingOperation = lambda x:x.split(\";\")\n",
    "    fileOperation    = lambda x:__readNImages(x, nbFrames, transform, drop=dropFrame)\n",
    "    targetOperation  = lambda x:int(labels[x])    \n",
    "    #targetOperation  = lambda x:int(x)\n",
    "    \n",
    "    train = GenericDatasetFromFile(trainFile, baseDir, parsingOperation, fileOperation, targetOperation)\n",
    "    val  = GenericDatasetFromFile(validationFile, baseDir, parsingOperation, fileOperation, targetOperation)\n",
    "\n",
    "    train_loader = data.DataLoader(train, batch, shuffle=True,num_workers=4,drop_last=True)\n",
    "    val_loader   = data.DataLoader(val, batch, shuffle=True,num_workers=4,drop_last=True)\n",
    "    \n",
    "    return train_loader, val_loader, labels"
   ]
  },
  {
   "cell_type": "code",
   "execution_count": null,
   "metadata": {
    "collapsed": false,
    "deletable": true,
    "editable": true
   },
   "outputs": [],
   "source": [
    "def shrkFile(fIn, fOut):\n",
    "    fInOpen = open(fIn).read().splitlines()\n",
    "    random.shuffle(fInOpen)\n",
    "    fInOpen = fInOpen[:len(fInOpen)/10]\n",
    "    \n",
    "    with open(fOut, \"w\") as fOutOpen :\n",
    "        for l in fInOpen:\n",
    "            fOutOpen.write(l+'\\n')"
   ]
  },
  {
   "cell_type": "code",
   "execution_count": null,
   "metadata": {
    "collapsed": true,
    "deletable": true,
    "editable": true
   },
   "outputs": [],
   "source": [
    "from torchvision.utils import make_grid\n",
    "import matplotlib.pyplot as plt\n",
    "import numpy as np\n",
    "import random\n",
    "\n",
    "%matplotlib inline\n",
    "def show(img):\n",
    "    npimg = img.numpy()\n",
    "    plt.imshow(np.transpose(npimg, (1,2,0)), interpolation='nearest')\n",
    "    #show(make_grid([a[0][0][:3], a[0][0][3:6], a[0][0][6:9]], padding=1, normalize=False))"
   ]
  },
  {
   "cell_type": "code",
   "execution_count": null,
   "metadata": {
    "collapsed": true,
    "deletable": true,
    "editable": true
   },
   "outputs": [],
   "source": [
    "def countFrame(fileName):\n",
    "    cap = cv2.VideoCapture(fileName)\n",
    "    return cap.get(cv2.CAP_PROP_FRAME_COUNT)"
   ]
  },
  {
   "cell_type": "code",
   "execution_count": null,
   "metadata": {
    "collapsed": true,
    "deletable": true,
    "editable": true
   },
   "outputs": [],
   "source": [
    "def moveShortVideos(rep=\"/video/GestureSequence/\", trash=\"/video/VideoTrash\"):\n",
    "    import glob\n",
    "    for f in glob.iglob(os.path.join(rep,'*')):\n",
    "        if os.path.isdir(f):\n",
    "            moveShortVideos(f, trash)\n",
    "            print(\"Going into\", f)\n",
    "        else:\n",
    "            if '.avi' in f:\n",
    "                print(\"Handling\", f, end='\\r')\n",
    "                nframe = countFrame(f)\n",
    "                if nframe < 9:\n",
    "                    print(\"Moving \", f,end=\"\\t\\n\")\n",
    "                    shutil.move(f, trash)"
   ]
  },
  {
   "cell_type": "code",
   "execution_count": 16,
   "metadata": {
    "collapsed": false,
    "deletable": true,
    "editable": true
   },
   "outputs": [],
   "source": [
    "if __name__==\"__main__\":\n",
    "    trans = transforms.Compose((\n",
    "                transforms.Resize(128),\n",
    "                transforms.RandomCrop(128),\n",
    "                transforms.ToTensor()))\n",
    "    tr, val, labels = twentybnDataset()\n",
    "    #countFrame(\"/video/Gesture/gR16.mp4\")\n",
    "    #moveShortVideos()"
   ]
  },
  {
   "cell_type": "code",
   "execution_count": null,
   "metadata": {
    "collapsed": true
   },
   "outputs": [],
   "source": []
  }
 ],
 "metadata": {
  "kernelspec": {
   "display_name": "Python 2",
   "language": "python",
   "name": "python2"
  },
  "language_info": {
   "codemirror_mode": {
    "name": "ipython",
    "version": 2
   },
   "file_extension": ".py",
   "mimetype": "text/x-python",
   "name": "python",
   "nbconvert_exporter": "python",
   "pygments_lexer": "ipython2",
   "version": "2.7.9"
  }
 },
 "nbformat": 4,
 "nbformat_minor": 2
}
