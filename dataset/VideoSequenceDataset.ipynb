{
 "cells": [
  {
   "cell_type": "code",
   "execution_count": 19,
   "metadata": {
    "collapsed": true
   },
   "outputs": [],
   "source": [
    "from __future__ import print_function"
   ]
  },
  {
   "cell_type": "code",
   "execution_count": 3,
   "metadata": {
    "collapsed": false,
    "deletable": true,
    "editable": true
   },
   "outputs": [],
   "source": [
    "#!jupyter nbconvert --to python Dataset.ipynb\n",
    "from Dataset import GenericDataset"
   ]
  },
  {
   "cell_type": "code",
   "execution_count": 4,
   "metadata": {
    "collapsed": true,
    "deletable": true,
    "editable": true
   },
   "outputs": [],
   "source": [
    "import cv2\n",
    "import random\n",
    "import torch\n",
    "import torchvision.transforms as transforms\n",
    "import torch.utils.data as data"
   ]
  },
  {
   "cell_type": "code",
   "execution_count": 5,
   "metadata": {
    "collapsed": true,
    "deletable": true,
    "editable": true
   },
   "outputs": [],
   "source": [
    "class videoFrameError(Exception):\n",
    "    \"\"\"\n",
    "        Raise when reading a non-existing frame in a video\n",
    "        Attribute : \n",
    "            videoName --- video name or path\n",
    "            frame     --- frame number\n",
    "    \"\"\"\n",
    "    def __init__(self, videoName, frame):\n",
    "        self.videoName = videoName\n",
    "        self.frame = frame\n",
    "    def __str__(self):\n",
    "        return repr(self.videoName) + repr(self.frame)"
   ]
  },
  {
   "cell_type": "code",
   "execution_count": 6,
   "metadata": {
    "collapsed": true,
    "deletable": true,
    "editable": true
   },
   "outputs": [],
   "source": [
    "def ReadRandomSequence(videoName, nbFrame, transform=transforms.ToTensor(), dropFrame=1):\n",
    "    \"\"\"\n",
    "        Read a nbFrame number of frame randomly in the video\n",
    "    \"\"\"\n",
    "    cap = cv2.VideoCapture(videoName)\n",
    "    if cv2.CAP_PROP_FRAME_COUNT - (nbFrame*dropFrame) < 0:\n",
    "        firstFrame=cv2.CAP_PROP_FRAME_COUNT\n",
    "    else:\n",
    "        firstFrame = random.randint(0, cap.get(cv2.CAP_PROP_FRAME_COUNT)- (nbFrame*dropFrame))\n",
    "    \n",
    "    ret = cap.set(cv2.CAP_PROP_POS_FRAMES,firstFrame) #go to first frame\n",
    "    cframe = firstFrame #current frame\n",
    "\n",
    "    if not ret:\n",
    "        raise videoFrameError(videoName, cframe)\n",
    "    t = torch.Tensor(nbFrame,3,225,225)\n",
    "    for i in range(nbFrame):\n",
    "        ret, frame = cap.read()\n",
    "        cframe += 1\n",
    "        if not ret:\n",
    "            raise videoFrameError(videoName, cframe)    \n",
    "        t[i] = transform(frame)\n",
    "    return t"
   ]
  },
  {
   "cell_type": "code",
   "execution_count": 13,
   "metadata": {
    "collapsed": false,
    "deletable": true,
    "editable": true
   },
   "outputs": [],
   "source": [
    "def ReadNFrame(videoName, nbFrame, transform=transforms.ToTensor(), dropFrame=1):\n",
    "    \"\"\"\n",
    "        Read a nbFrame frame and concatenate them\n",
    "        \n",
    "        Input : videoName: path to video\n",
    "                nbFrame : number of frame to read\n",
    "                transform : transform to apply to each frame\n",
    "                dropFrame : number of frame to drop between each frame\n",
    "        \n",
    "    \"\"\"\n",
    "    cap = cv2.VideoCapture(videoName)\n",
    "    \n",
    "    #verify video length\n",
    "    if cap.get(cv2.CAP_PROP_FRAME_COUNT) < nbFrame*dropFrame:\n",
    "        raise videoFrameError(videoName, nbFrame)\n",
    "    \n",
    "    #find possible first frame\n",
    "    firstFrame = random.randint(0, cap.get(cv2.CAP_PROP_FRAME_COUNT)- (nbFrame*dropFrame))\n",
    "    \n",
    "    ret = cap.set(cv2.CAP_PROP_POS_FRAMES,firstFrame) #go to first frame\n",
    "    cframe = firstFrame #current frame\n",
    "\n",
    "    if not ret:\n",
    "        raise videoFrameError(videoName, cframe)\n",
    "        \n",
    "    t = torch.Tensor(nbFrame,3,128,128)\n",
    "    for i in range(nbFrame):\n",
    "        ret, frame = cap.read()\n",
    "        cframe += 1\n",
    "        if not ret:\n",
    "            raise videoFrameError(videoName, cframe)    \n",
    "        t[i] = transform(frame)\n",
    "    return t.view(t.size(0)*t.size(1), t.size(2), t.size(3))"
   ]
  },
  {
   "cell_type": "code",
   "execution_count": 16,
   "metadata": {
    "collapsed": true,
    "deletable": true,
    "editable": true
   },
   "outputs": [],
   "source": [
    "def VideoDataset(rep=\"/video/GestureSequence/\", SequenceSize=5, batchSize=4, transform=transforms.Compose(\n",
    "            (transforms.ToPILImage(),\n",
    "            transforms.Resize(128),\n",
    "            transforms.RandomCrop(128),\n",
    "            transforms.ToTensor())), \n",
    "            concat=False):\n",
    "    \n",
    "    \n",
    "    if concat:\n",
    "        openFile = lambda x:ReadNFrame(x,SequenceSize,transform)\n",
    "    else:\n",
    "        openFile = lambda x:ReadRandomSequence(x,SequenceSize,transform)\n",
    "    \n",
    "    targetOperation = lambda x:int(x)\n",
    "    \n",
    "    videodataset = GenericDataset(rep, fileOperation=openFile, targetOperation=targetOperation)\n",
    "    data_loader = data.DataLoader(videodataset,\n",
    "                                          batch_size=batchSize,\n",
    "                                          shuffle=True,\n",
    "                                          num_workers=4,\n",
    "                                          drop_last=True\n",
    "                                )\n",
    "    return data_loader"
   ]
  },
  {
   "cell_type": "code",
   "execution_count": 20,
   "metadata": {
    "collapsed": false,
    "deletable": true,
    "editable": true
   },
   "outputs": [
    {
     "name": "stdout",
     "output_type": "stream",
     "text": [
      "120\r"
     ]
    },
    {
     "ename": "TypeError",
     "evalue": "__init__() takes exactly 3 arguments (2 given)",
     "output_type": "error",
     "traceback": [
      "\u001b[0;31m---------------------------------------------------------------------------\u001b[0m",
      "\u001b[0;31mTypeError\u001b[0m                                 Traceback (most recent call last)",
      "\u001b[0;32m<ipython-input-20-f1bd7ce1fc1e>\u001b[0m in \u001b[0;36m<module>\u001b[0;34m()\u001b[0m\n\u001b[1;32m      1\u001b[0m \u001b[0;32mif\u001b[0m \u001b[0m__name__\u001b[0m\u001b[0;34m==\u001b[0m\u001b[0;34m\"__main__\"\u001b[0m\u001b[0;34m:\u001b[0m\u001b[0;34m\u001b[0m\u001b[0m\n\u001b[1;32m      2\u001b[0m     \u001b[0mvd\u001b[0m \u001b[0;34m=\u001b[0m \u001b[0mVideoDataset\u001b[0m\u001b[0;34m(\u001b[0m\u001b[0mconcat\u001b[0m\u001b[0;34m=\u001b[0m\u001b[0mTrue\u001b[0m\u001b[0;34m)\u001b[0m\u001b[0;34m\u001b[0m\u001b[0m\n\u001b[0;32m----> 3\u001b[0;31m     \u001b[0;32mfor\u001b[0m \u001b[0mj\u001b[0m\u001b[0;34m,\u001b[0m\u001b[0mi\u001b[0m \u001b[0;32min\u001b[0m \u001b[0menumerate\u001b[0m\u001b[0;34m(\u001b[0m\u001b[0mvd\u001b[0m\u001b[0;34m)\u001b[0m\u001b[0;34m:\u001b[0m\u001b[0;34m\u001b[0m\u001b[0m\n\u001b[0m\u001b[1;32m      4\u001b[0m         \u001b[0ma\u001b[0m \u001b[0;34m=\u001b[0m \u001b[0mi\u001b[0m\u001b[0;34m\u001b[0m\u001b[0m\n\u001b[1;32m      5\u001b[0m         \u001b[0;32mprint\u001b[0m\u001b[0;34m(\u001b[0m\u001b[0mj\u001b[0m\u001b[0;34m,\u001b[0m \u001b[0mend\u001b[0m\u001b[0;34m=\u001b[0m\u001b[0;34m\"\\r\"\u001b[0m\u001b[0;34m)\u001b[0m\u001b[0;34m\u001b[0m\u001b[0m\n",
      "\u001b[0;32m/usr/local/lib/python2.7/dist-packages/torch/utils/data/dataloader.pyc\u001b[0m in \u001b[0;36m__next__\u001b[0;34m(self)\u001b[0m\n\u001b[1;32m    265\u001b[0m         \u001b[0;32mif\u001b[0m \u001b[0mself\u001b[0m\u001b[0;34m.\u001b[0m\u001b[0mrcvd_idx\u001b[0m \u001b[0;32min\u001b[0m \u001b[0mself\u001b[0m\u001b[0;34m.\u001b[0m\u001b[0mreorder_dict\u001b[0m\u001b[0;34m:\u001b[0m\u001b[0;34m\u001b[0m\u001b[0m\n\u001b[1;32m    266\u001b[0m             \u001b[0mbatch\u001b[0m \u001b[0;34m=\u001b[0m \u001b[0mself\u001b[0m\u001b[0;34m.\u001b[0m\u001b[0mreorder_dict\u001b[0m\u001b[0;34m.\u001b[0m\u001b[0mpop\u001b[0m\u001b[0;34m(\u001b[0m\u001b[0mself\u001b[0m\u001b[0;34m.\u001b[0m\u001b[0mrcvd_idx\u001b[0m\u001b[0;34m)\u001b[0m\u001b[0;34m\u001b[0m\u001b[0m\n\u001b[0;32m--> 267\u001b[0;31m             \u001b[0;32mreturn\u001b[0m \u001b[0mself\u001b[0m\u001b[0;34m.\u001b[0m\u001b[0m_process_next_batch\u001b[0m\u001b[0;34m(\u001b[0m\u001b[0mbatch\u001b[0m\u001b[0;34m)\u001b[0m\u001b[0;34m\u001b[0m\u001b[0m\n\u001b[0m\u001b[1;32m    268\u001b[0m \u001b[0;34m\u001b[0m\u001b[0m\n\u001b[1;32m    269\u001b[0m         \u001b[0;32mif\u001b[0m \u001b[0mself\u001b[0m\u001b[0;34m.\u001b[0m\u001b[0mbatches_outstanding\u001b[0m \u001b[0;34m==\u001b[0m \u001b[0;36m0\u001b[0m\u001b[0;34m:\u001b[0m\u001b[0;34m\u001b[0m\u001b[0m\n",
      "\u001b[0;32m/usr/local/lib/python2.7/dist-packages/torch/utils/data/dataloader.pyc\u001b[0m in \u001b[0;36m_process_next_batch\u001b[0;34m(self, batch)\u001b[0m\n\u001b[1;32m    299\u001b[0m         \u001b[0mself\u001b[0m\u001b[0;34m.\u001b[0m\u001b[0m_put_indices\u001b[0m\u001b[0;34m(\u001b[0m\u001b[0;34m)\u001b[0m\u001b[0;34m\u001b[0m\u001b[0m\n\u001b[1;32m    300\u001b[0m         \u001b[0;32mif\u001b[0m \u001b[0misinstance\u001b[0m\u001b[0;34m(\u001b[0m\u001b[0mbatch\u001b[0m\u001b[0;34m,\u001b[0m \u001b[0mExceptionWrapper\u001b[0m\u001b[0;34m)\u001b[0m\u001b[0;34m:\u001b[0m\u001b[0;34m\u001b[0m\u001b[0m\n\u001b[0;32m--> 301\u001b[0;31m             \u001b[0;32mraise\u001b[0m \u001b[0mbatch\u001b[0m\u001b[0;34m.\u001b[0m\u001b[0mexc_type\u001b[0m\u001b[0;34m(\u001b[0m\u001b[0mbatch\u001b[0m\u001b[0;34m.\u001b[0m\u001b[0mexc_msg\u001b[0m\u001b[0;34m)\u001b[0m\u001b[0;34m\u001b[0m\u001b[0m\n\u001b[0m\u001b[1;32m    302\u001b[0m         \u001b[0;32mreturn\u001b[0m \u001b[0mbatch\u001b[0m\u001b[0;34m\u001b[0m\u001b[0m\n\u001b[1;32m    303\u001b[0m \u001b[0;34m\u001b[0m\u001b[0m\n",
      "\u001b[0;31mTypeError\u001b[0m: __init__() takes exactly 3 arguments (2 given)"
     ]
    }
   ],
   "source": [
    "if __name__==\"__main__\":\n",
    "    vd = VideoDataset(concat=True)\n",
    "    for j,i in enumerate(vd):\n",
    "        a = i\n",
    "        print(j, end=\"\\r\")\n",
    "    print(a)"
   ]
  }
 ],
 "metadata": {
  "kernelspec": {
   "display_name": "Python 2",
   "language": "python",
   "name": "python2"
  },
  "language_info": {
   "codemirror_mode": {
    "name": "ipython",
    "version": 2
   },
   "file_extension": ".py",
   "mimetype": "text/x-python",
   "name": "python",
   "nbconvert_exporter": "python",
   "pygments_lexer": "ipython2",
   "version": "2.7.9"
  }
 },
 "nbformat": 4,
 "nbformat_minor": 2
}
