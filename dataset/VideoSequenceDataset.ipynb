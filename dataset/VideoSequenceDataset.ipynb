{
 "cells": [
  {
   "cell_type": "code",
   "execution_count": 1,
   "metadata": {
    "collapsed": false,
    "deletable": true,
    "editable": true
   },
   "outputs": [
    {
     "name": "stdout",
     "output_type": "stream",
     "text": [
      "[NbConvertApp] Converting notebook Dataset.ipynb to python\n",
      "[NbConvertApp] Writing 1778 bytes to Dataset.py\n"
     ]
    }
   ],
   "source": [
    "!jupyter nbconvert --to python Dataset.ipynb\n",
    "from Dataset import GenericDataset"
   ]
  },
  {
   "cell_type": "code",
   "execution_count": 2,
   "metadata": {
    "collapsed": true,
    "deletable": true,
    "editable": true
   },
   "outputs": [],
   "source": [
    "import cv2\n",
    "import random\n",
    "import torch\n",
    "import torchvision.transforms as transforms\n",
    "import torch.utils.data as data"
   ]
  },
  {
   "cell_type": "code",
   "execution_count": 3,
   "metadata": {
    "collapsed": true,
    "deletable": true,
    "editable": true
   },
   "outputs": [],
   "source": [
    "class videoFrameError(Exception):\n",
    "    \"\"\"\n",
    "        Raise when reading a non-existing frame in a video\n",
    "        Attribute : \n",
    "            videoName --- video name or path\n",
    "            frame     --- frame number\n",
    "    \"\"\"\n",
    "    def __init__(self, videoName, frame):\n",
    "        self.videoName = videoName\n",
    "        self.frame = frame\n",
    "    def __str__(self):\n",
    "        return repr(self.videoName) + repr(self.frame)"
   ]
  },
  {
   "cell_type": "code",
   "execution_count": 4,
   "metadata": {
    "collapsed": true,
    "deletable": true,
    "editable": true
   },
   "outputs": [],
   "source": [
    "def ReadRandomSequence(videoName, nbFrame, transform=transforms.ToTensor(), dropFrame=1):\n",
    "    \"\"\"\n",
    "        Read a nbFrame number of frame randomly in the video\n",
    "    \"\"\"\n",
    "    cap = cv2.VideoCapture(videoName)\n",
    "    if cv2.CAP_PROP_FRAME_COUNT - (nbFrame*dropFrame) < 0:\n",
    "        firstFrame=cv2.CAP_PROP_FRAME_COUNT\n",
    "    else:\n",
    "        firstFrame = random.randint(0, cap.get(cv2.CAP_PROP_FRAME_COUNT)- (nbFrame*dropFrame))\n",
    "    \n",
    "    ret = cap.set(cv2.CAP_PROP_POS_FRAMES,firstFrame) #go to first frame\n",
    "    cframe = firstFrame #current frame\n",
    "\n",
    "    if not ret:\n",
    "        raise videoFrameError(videoName, cframe)\n",
    "    t = torch.Tensor(nbFrame,3,225,225)\n",
    "    for i in range(nbFrame):\n",
    "        ret, frame = cap.read()\n",
    "        cframe += 1\n",
    "        if not ret:\n",
    "            raise videoFrameError(videoName, cframe)    \n",
    "        t[i] = transform(frame)\n",
    "    return t"
   ]
  },
  {
   "cell_type": "code",
   "execution_count": 5,
   "metadata": {
    "collapsed": true,
    "deletable": true,
    "editable": true
   },
   "outputs": [],
   "source": [
    "def VideoDataset(rep=\"/video/GestureSequence/\", SequenceSize=5, batchSize=4):\n",
    "    transform = transforms.Compose(\n",
    "            (transforms.ToPILImage(),\n",
    "            transforms.Resize(225),\n",
    "            transforms.RandomCrop(225),\n",
    "            transforms.ToTensor())\n",
    "    )\n",
    "    \n",
    "    openFile = lambda x:ReadRandomSequence(x,SequenceSize,transform)\n",
    "    \n",
    "    videodataset = GenericDataset(rep, fileOperation=openFile)\n",
    "    data_loader = data.DataLoader(videodataset,\n",
    "                                          batch_size=batchSize,\n",
    "                                          shuffle=True,\n",
    "                                          num_workers=4,\n",
    "                                          drop_last=True\n",
    "                                )\n",
    "    return data_loader"
   ]
  }
 ],
 "metadata": {
  "kernelspec": {
   "display_name": "Python 2",
   "language": "python",
   "name": "python2"
  },
  "language_info": {
   "codemirror_mode": {
    "name": "ipython",
    "version": 2
   },
   "file_extension": ".py",
   "mimetype": "text/x-python",
   "name": "python",
   "nbconvert_exporter": "python",
   "pygments_lexer": "ipython2",
   "version": "2.7.9"
  }
 },
 "nbformat": 4,
 "nbformat_minor": 2
}
