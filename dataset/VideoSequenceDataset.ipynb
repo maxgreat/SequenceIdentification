{
 "cells": [
  {
   "cell_type": "code",
   "execution_count": 66,
   "metadata": {
    "collapsed": true,
    "deletable": true,
    "editable": true
   },
   "outputs": [],
   "source": [
    "from __future__ import print_function"
   ]
  },
  {
   "cell_type": "code",
   "execution_count": 67,
   "metadata": {
    "collapsed": false,
    "deletable": true,
    "editable": true
   },
   "outputs": [],
   "source": [
    "#!jupyter nbconvert --to python Dataset.ipynb\n",
    "from Dataset import GenericDataset"
   ]
  },
  {
   "cell_type": "code",
   "execution_count": 68,
   "metadata": {
    "collapsed": false,
    "deletable": true,
    "editable": true
   },
   "outputs": [],
   "source": [
    "import cv2\n",
    "import random\n",
    "import torch\n",
    "import torchvision.transforms as transforms\n",
    "import torch.utils.data as data"
   ]
  },
  {
   "cell_type": "code",
   "execution_count": 69,
   "metadata": {
    "collapsed": true,
    "deletable": true,
    "editable": true
   },
   "outputs": [],
   "source": [
    "import glob\n",
    "import os\n",
    "import shutil"
   ]
  },
  {
   "cell_type": "code",
   "execution_count": 70,
   "metadata": {
    "collapsed": true,
    "deletable": true,
    "editable": true
   },
   "outputs": [],
   "source": [
    "class videoFrameError(Exception):\n",
    "    \"\"\"\n",
    "        Raise when reading a non-existing frame in a video\n",
    "        Attribute : \n",
    "            videoName --- video name or path\n",
    "            frame     --- frame number\n",
    "    \"\"\"\n",
    "    def __init__(self, videoName, frame):\n",
    "        self.videoName = videoName\n",
    "        self.frame = frame\n",
    "    def __str__(self):\n",
    "        return repr(self.videoName) + repr(self.frame)"
   ]
  },
  {
   "cell_type": "code",
   "execution_count": 71,
   "metadata": {
    "collapsed": true,
    "deletable": true,
    "editable": true
   },
   "outputs": [],
   "source": [
    "def ReadRandomSequence(videoName, nbFrame, transform=transforms.ToTensor(), dropFrame=1):\n",
    "    \"\"\"\n",
    "        Read a nbFrame number of frame randomly in the video\n",
    "    \"\"\"\n",
    "    cap = cv2.VideoCapture(videoName)\n",
    "    if cv2.CAP_PROP_FRAME_COUNT - (nbFrame*dropFrame) < 0:\n",
    "        firstFrame=cv2.CAP_PROP_FRAME_COUNT\n",
    "    else:\n",
    "        firstFrame = random.randint(0, cap.get(cv2.CAP_PROP_FRAME_COUNT)- (nbFrame*dropFrame))\n",
    "    \n",
    "    ret = cap.set(cv2.CAP_PROP_POS_FRAMES,firstFrame) #go to first frame\n",
    "    cframe = firstFrame #current frame\n",
    "\n",
    "    if not ret:\n",
    "        raise videoFrameError(videoName, cframe)\n",
    "    t = torch.Tensor(nbFrame,3,225,225)\n",
    "    for i in range(nbFrame):\n",
    "        ret, frame = cap.read()\n",
    "        cframe += 1\n",
    "        if not ret:\n",
    "            raise videoFrameError(videoName, cframe)    \n",
    "        t[i] = transform(frame)\n",
    "    return t"
   ]
  },
  {
   "cell_type": "code",
   "execution_count": 85,
   "metadata": {
    "collapsed": true,
    "deletable": true,
    "editable": true
   },
   "outputs": [],
   "source": [
    "def addOpticalFlow(img, prevImg):\n",
    "    print(\"Img shape : \", img.shape)\n",
    "    print(\"prevImg shape : \", prevImg.shape)\n",
    "    f = cv2.cvtColor(prevImg,cv2.COLOR_BGR2GRAY)\n",
    "    nf = cv2.cvtColor(img,cv2.COLOR_BGR2GRAY)\n",
    "    oF = cv2.calcOpticalFlowFarneback(f,nf, None, 0.5, 3, 15, 3, 5, 1.2, 0)\n",
    "    return np.dstack((img,oF))"
   ]
  },
  {
   "cell_type": "code",
   "execution_count": 73,
   "metadata": {
    "collapsed": false,
    "deletable": true,
    "editable": true
   },
   "outputs": [],
   "source": [
    "def ReadNFrame(videoName, nbFrame, transform=None, dropFrame=0, opticalFlow=False):\n",
    "    \"\"\"\n",
    "        Read a nbFrame frame and concatenate them\n",
    "        \n",
    "        Input : videoName: path to video\n",
    "                nbFrame : number of frame to read\n",
    "                transform : transform to apply to each frame\n",
    "                dropFrame : number of frame to drop between each frame\n",
    "        \n",
    "    \"\"\"\n",
    "    cap = cv2.VideoCapture(videoName)\n",
    "    cap.set(cv2.CAP_PROP_CONVERT_RGB, True)\n",
    "    #verify video length\n",
    "    if cap.get(cv2.CAP_PROP_FRAME_COUNT) < (nbFrame*(dropFrame+1)-dropFrame):\n",
    "        print(\"Error in video Reading\", videoName, nbFrame)\n",
    "        print(\"This video only has \", cap.get(cv2.CAP_PROP_FRAME_COUNT), \"frames\")\n",
    "        raise videoFrameError(videoName, nbFrame)\n",
    "    \n",
    "    #find possible first frame\n",
    "    firstFrame = random.randint(0, cap.get(cv2.CAP_PROP_FRAME_COUNT)- (nbFrame*(dropFrame+1)-dropFrame))\n",
    "    ret, frame = cap.read() #save for image shape\n",
    "    ret = cap.set(cv2.CAP_PROP_POS_FRAMES,firstFrame) #go to first frame\n",
    "    cframe = firstFrame #current frame\n",
    "\n",
    "    if not ret:\n",
    "        print(\"Error in video Reading\", videoName, cframe)\n",
    "        print(\"This video only has \", cap.get(cv2.CAP_PROP_FRAME_COUNT), \"frames\")\n",
    "        raise videoFrameError(videoName, cframe)\n",
    "        \n",
    "    imBase = transform(frame)\n",
    "    if opticalFlow:\n",
    "        t = torch.Tensor(nbFrame,5,imBase.size(1),imBase.size(2))\n",
    "    else:    \n",
    "        t = torch.Tensor(nbFrame,3,imBase.size(1),imBase.size(2))\n",
    "        \n",
    "    for i in range(nbFrame):\n",
    "        ret, frame = cap.read()\n",
    "        if opticalFlow and i == 0:\n",
    "            prevFrame = frame.copy()\n",
    "        cframe += 1\n",
    "        if not ret:\n",
    "            raise videoFrameError(videoName, cframe)    \n",
    "        \n",
    "        if opticalFlow:\n",
    "            frame = addOpticalFlow(frame, prevFrame)\n",
    "            prevFrame = frame.copy()\n",
    "        \n",
    "        t[i] = transform(frame)\n",
    "        j = 0\n",
    "        while j < dropFrame:\n",
    "            ret, frame = cap.read()\n",
    "            j += 1\n",
    "        \n",
    "    return t.view(t.size(0)*t.size(1), t.size(2), t.size(3))"
   ]
  },
  {
   "cell_type": "code",
   "execution_count": 80,
   "metadata": {
    "collapsed": false,
    "deletable": true,
    "editable": true
   },
   "outputs": [],
   "source": [
    "def VideoDataset(rep=\"/video/GestureSequence/\", SequenceSize=5, batchSize=4, transform=None, \n",
    "            concat=False, dropFrame=1, opticalFlow=False):\n",
    "    \n",
    "    \n",
    "    if concat:\n",
    "        openFile = lambda x:ReadNFrame(x,SequenceSize,transform, dropFrame,opticalFlow=opticalFlow)\n",
    "    else:\n",
    "        openFile = lambda x:ReadRandomSequence(x,SequenceSize,transform, dropFrame, opticalFlow=opticalFlow)\n",
    "    \n",
    "    targetOperation = lambda x:int(x)\n",
    "    \n",
    "    videodataset = GenericDataset(rep, fileOperation=openFile, targetOperation=targetOperation)\n",
    "    data_loader = data.DataLoader(videodataset,\n",
    "                                          batch_size=batchSize,\n",
    "                                          shuffle=True,\n",
    "                                          num_workers=4,\n",
    "                                          drop_last=True\n",
    "                                )\n",
    "    return data_loader"
   ]
  },
  {
   "cell_type": "code",
   "execution_count": 81,
   "metadata": {
    "collapsed": true,
    "deletable": true,
    "editable": true
   },
   "outputs": [],
   "source": [
    "from torchvision.utils import make_grid\n",
    "import matplotlib.pyplot as plt\n",
    "import numpy as np\n",
    "import random\n",
    "\n",
    "%matplotlib inline\n",
    "def show(img):\n",
    "    npimg = img.numpy()\n",
    "    plt.imshow(np.transpose(npimg, (1,2,0)), interpolation='nearest')\n",
    "    show(make_grid([a[0][0][:3], a[0][0][3:6], a[0][0][6:9]], padding=1, normalize=False))"
   ]
  },
  {
   "cell_type": "code",
   "execution_count": 76,
   "metadata": {
    "collapsed": true,
    "deletable": true,
    "editable": true
   },
   "outputs": [],
   "source": [
    "def countFrame(fileName):\n",
    "    cap = cv2.VideoCapture(fileName)\n",
    "    return cap.get(cv2.CAP_PROP_FRAME_COUNT)"
   ]
  },
  {
   "cell_type": "code",
   "execution_count": 77,
   "metadata": {
    "collapsed": true,
    "deletable": true,
    "editable": true
   },
   "outputs": [],
   "source": [
    "def moveShortVideos(rep=\"/video/GestureSequence/\", trash=\"/video/VideoTrash\"):\n",
    "    import glob\n",
    "    for f in glob.iglob(os.path.join(rep,'*')):\n",
    "        if os.path.isdir(f):\n",
    "            moveShortVideos(f, trash)\n",
    "            print(\"Going into\", f)\n",
    "        else:\n",
    "            if '.avi' in f:\n",
    "                print(\"Handling\", f, end='\\r')\n",
    "                nframe = countFrame(f)\n",
    "                if nframe < 9:\n",
    "                    print(\"Moving \", f,end=\"\\t\\n\")\n",
    "                    shutil.move(f, trash)"
   ]
  },
  {
   "cell_type": "code",
   "execution_count": 86,
   "metadata": {
    "collapsed": false,
    "deletable": true,
    "editable": true
   },
   "outputs": [
    {
     "name": "stdout",
     "output_type": "stream",
     "text": [
      "Img shape :  (960, 1280, 3)\n",
      "prevImg shape :  (960, 1280, 3)\n",
      "Img shape :  (960, 1280, 3)\n",
      "Img shape :  (960, 1280, 3)\n",
      "prevImg shape :  (960, 1280, 3)\n",
      "prevImg shape :  (960, 1280, 3)\n",
      "Img shape :  (960, 1280, 3)\n",
      "prevImg shape :  (960, 1280, 3)\n"
     ]
    },
    {
     "ename": "KeyboardInterrupt",
     "evalue": "",
     "output_type": "error",
     "traceback": [
      "\u001b[0;31m---------------------------------------------\u001b[0m",
      "\u001b[0;31mKeyboardInterrupt\u001b[0mTraceback (most recent call last)",
      "\u001b[0;32m<ipython-input-86-3d0d61958c47>\u001b[0m in \u001b[0;36m<module>\u001b[0;34m()\u001b[0m\n\u001b[1;32m      7\u001b[0m                 )\n\u001b[1;32m      8\u001b[0m     \u001b[0mvd\u001b[0m \u001b[0;34m=\u001b[0m \u001b[0mVideoDataset\u001b[0m\u001b[0;34m(\u001b[0m\u001b[0mrep\u001b[0m\u001b[0;34m=\u001b[0m\u001b[0;34m\"/video/GestureSequence/\"\u001b[0m\u001b[0;34m,\u001b[0m \u001b[0mSequenceSize\u001b[0m\u001b[0;34m=\u001b[0m\u001b[0;36m3\u001b[0m\u001b[0;34m,\u001b[0m \u001b[0mtransform\u001b[0m\u001b[0;34m=\u001b[0m\u001b[0mtrans\u001b[0m\u001b[0;34m,\u001b[0m \u001b[0mbatchSize\u001b[0m\u001b[0;34m=\u001b[0m\u001b[0;36m12\u001b[0m\u001b[0;34m,\u001b[0m \u001b[0mconcat\u001b[0m\u001b[0;34m=\u001b[0m\u001b[0mTrue\u001b[0m\u001b[0;34m,\u001b[0m \u001b[0mopticalFlow\u001b[0m\u001b[0;34m=\u001b[0m\u001b[0mTrue\u001b[0m\u001b[0;34m)\u001b[0m\u001b[0;34m\u001b[0m\u001b[0m\n\u001b[0;32m----> 9\u001b[0;31m     \u001b[0;32mfor\u001b[0m \u001b[0mi\u001b[0m \u001b[0;32min\u001b[0m \u001b[0mvd\u001b[0m\u001b[0;34m:\u001b[0m\u001b[0;34m\u001b[0m\u001b[0m\n\u001b[0m\u001b[1;32m     10\u001b[0m         \u001b[0ma\u001b[0m \u001b[0;34m=\u001b[0m \u001b[0mi\u001b[0m\u001b[0;34m\u001b[0m\u001b[0m\n\u001b[1;32m     11\u001b[0m         \u001b[0;32mbreak\u001b[0m\u001b[0;34m\u001b[0m\u001b[0m\n",
      "\u001b[0;32m/usr/local/lib/python2.7/dist-packages/torch/utils/data/dataloader.pyc\u001b[0m in \u001b[0;36m__next__\u001b[0;34m(self)\u001b[0m\n\u001b[1;32m    273\u001b[0m         \u001b[0;32mwhile\u001b[0m \u001b[0mTrue\u001b[0m\u001b[0;34m:\u001b[0m\u001b[0;34m\u001b[0m\u001b[0m\n\u001b[1;32m    274\u001b[0m             \u001b[0;32massert\u001b[0m \u001b[0;34m(\u001b[0m\u001b[0;32mnot\u001b[0m \u001b[0mself\u001b[0m\u001b[0;34m.\u001b[0m\u001b[0mshutdown\u001b[0m \u001b[0;32mand\u001b[0m \u001b[0mself\u001b[0m\u001b[0;34m.\u001b[0m\u001b[0mbatches_outstanding\u001b[0m \u001b[0;34m>\u001b[0m \u001b[0;36m0\u001b[0m\u001b[0;34m)\u001b[0m\u001b[0;34m\u001b[0m\u001b[0m\n\u001b[0;32m--> 275\u001b[0;31m             \u001b[0midx\u001b[0m\u001b[0;34m,\u001b[0m \u001b[0mbatch\u001b[0m \u001b[0;34m=\u001b[0m \u001b[0mself\u001b[0m\u001b[0;34m.\u001b[0m\u001b[0m_get_batch\u001b[0m\u001b[0;34m(\u001b[0m\u001b[0;34m)\u001b[0m\u001b[0;34m\u001b[0m\u001b[0m\n\u001b[0m\u001b[1;32m    276\u001b[0m             \u001b[0mself\u001b[0m\u001b[0;34m.\u001b[0m\u001b[0mbatches_outstanding\u001b[0m \u001b[0;34m-=\u001b[0m \u001b[0;36m1\u001b[0m\u001b[0;34m\u001b[0m\u001b[0m\n\u001b[1;32m    277\u001b[0m             \u001b[0;32mif\u001b[0m \u001b[0midx\u001b[0m \u001b[0;34m!=\u001b[0m \u001b[0mself\u001b[0m\u001b[0;34m.\u001b[0m\u001b[0mrcvd_idx\u001b[0m\u001b[0;34m:\u001b[0m\u001b[0;34m\u001b[0m\u001b[0m\n",
      "\u001b[0;32m/usr/local/lib/python2.7/dist-packages/torch/utils/data/dataloader.pyc\u001b[0m in \u001b[0;36m_get_batch\u001b[0;34m(self)\u001b[0m\n\u001b[1;32m    252\u001b[0m                 \u001b[0;32mraise\u001b[0m \u001b[0mRuntimeError\u001b[0m\u001b[0;34m(\u001b[0m\u001b[0;34m'DataLoader timed out after {} seconds'\u001b[0m\u001b[0;34m.\u001b[0m\u001b[0mformat\u001b[0m\u001b[0;34m(\u001b[0m\u001b[0mself\u001b[0m\u001b[0;34m.\u001b[0m\u001b[0mtimeout\u001b[0m\u001b[0;34m)\u001b[0m\u001b[0;34m)\u001b[0m\u001b[0;34m\u001b[0m\u001b[0m\n\u001b[1;32m    253\u001b[0m         \u001b[0;32melse\u001b[0m\u001b[0;34m:\u001b[0m\u001b[0;34m\u001b[0m\u001b[0m\n\u001b[0;32m--> 254\u001b[0;31m             \u001b[0;32mreturn\u001b[0m \u001b[0mself\u001b[0m\u001b[0;34m.\u001b[0m\u001b[0mdata_queue\u001b[0m\u001b[0;34m.\u001b[0m\u001b[0mget\u001b[0m\u001b[0;34m(\u001b[0m\u001b[0;34m)\u001b[0m\u001b[0;34m\u001b[0m\u001b[0m\n\u001b[0m\u001b[1;32m    255\u001b[0m \u001b[0;34m\u001b[0m\u001b[0m\n\u001b[1;32m    256\u001b[0m     \u001b[0;32mdef\u001b[0m \u001b[0m__next__\u001b[0m\u001b[0;34m(\u001b[0m\u001b[0mself\u001b[0m\u001b[0;34m)\u001b[0m\u001b[0;34m:\u001b[0m\u001b[0;34m\u001b[0m\u001b[0m\n",
      "\u001b[0;32m/usr/lib/python2.7/multiprocessing/queues.pyc\u001b[0m in \u001b[0;36mget\u001b[0;34m()\u001b[0m\n\u001b[1;32m    374\u001b[0m             \u001b[0mracquire\u001b[0m\u001b[0;34m(\u001b[0m\u001b[0;34m)\u001b[0m\u001b[0;34m\u001b[0m\u001b[0m\n\u001b[1;32m    375\u001b[0m             \u001b[0;32mtry\u001b[0m\u001b[0;34m:\u001b[0m\u001b[0;34m\u001b[0m\u001b[0m\n\u001b[0;32m--> 376\u001b[0;31m                 \u001b[0;32mreturn\u001b[0m \u001b[0mrecv\u001b[0m\u001b[0;34m(\u001b[0m\u001b[0;34m)\u001b[0m\u001b[0;34m\u001b[0m\u001b[0m\n\u001b[0m\u001b[1;32m    377\u001b[0m             \u001b[0;32mfinally\u001b[0m\u001b[0;34m:\u001b[0m\u001b[0;34m\u001b[0m\u001b[0m\n\u001b[1;32m    378\u001b[0m                 \u001b[0mrrelease\u001b[0m\u001b[0;34m(\u001b[0m\u001b[0;34m)\u001b[0m\u001b[0;34m\u001b[0m\u001b[0m\n",
      "\u001b[0;32m/usr/local/lib/python2.7/dist-packages/torch/multiprocessing/queue.pyc\u001b[0m in \u001b[0;36mrecv\u001b[0;34m(self)\u001b[0m\n\u001b[1;32m     19\u001b[0m \u001b[0;34m\u001b[0m\u001b[0m\n\u001b[1;32m     20\u001b[0m     \u001b[0;32mdef\u001b[0m \u001b[0mrecv\u001b[0m\u001b[0;34m(\u001b[0m\u001b[0mself\u001b[0m\u001b[0;34m)\u001b[0m\u001b[0;34m:\u001b[0m\u001b[0;34m\u001b[0m\u001b[0m\n\u001b[0;32m---> 21\u001b[0;31m         \u001b[0mbuf\u001b[0m \u001b[0;34m=\u001b[0m \u001b[0mself\u001b[0m\u001b[0;34m.\u001b[0m\u001b[0mrecv_bytes\u001b[0m\u001b[0;34m(\u001b[0m\u001b[0;34m)\u001b[0m\u001b[0;34m\u001b[0m\u001b[0m\n\u001b[0m\u001b[1;32m     22\u001b[0m         \u001b[0;32mreturn\u001b[0m \u001b[0mpickle\u001b[0m\u001b[0;34m.\u001b[0m\u001b[0mloads\u001b[0m\u001b[0;34m(\u001b[0m\u001b[0mbuf\u001b[0m\u001b[0;34m)\u001b[0m\u001b[0;34m\u001b[0m\u001b[0m\n\u001b[1;32m     23\u001b[0m \u001b[0;34m\u001b[0m\u001b[0m\n",
      "\u001b[0;31mKeyboardInterrupt\u001b[0m: "
     ]
    }
   ],
   "source": [
    "if __name__==\"__main__\":\n",
    "    trans = transforms.Compose(\n",
    "                (transforms.ToPILImage(),\n",
    "                transforms.Resize(64),\n",
    "                transforms.RandomCrop(64),\n",
    "                transforms.ToTensor())\n",
    "                )\n",
    "    vd = VideoDataset(rep=\"/video/GestureSequence/\", SequenceSize=3, transform=trans, batchSize=12, concat=True, opticalFlow=True)\n",
    "    for i in vd:\n",
    "        a = i\n",
    "        break\n",
    "    a\n",
    "    #countFrame(\"/video/Gesture/gR16.mp4\")\n",
    "    #moveShortVideos()"
   ]
  }
 ],
 "metadata": {
  "kernelspec": {
   "display_name": "Python 2",
   "language": "python",
   "name": "python2"
  },
  "language_info": {
   "codemirror_mode": {
    "name": "ipython",
    "version": 2
   },
   "file_extension": ".py",
   "mimetype": "text/x-python",
   "name": "python",
   "nbconvert_exporter": "python",
   "pygments_lexer": "ipython2",
   "version": "2.7.9"
  }
 },
 "nbformat": 4,
 "nbformat_minor": 2
}
