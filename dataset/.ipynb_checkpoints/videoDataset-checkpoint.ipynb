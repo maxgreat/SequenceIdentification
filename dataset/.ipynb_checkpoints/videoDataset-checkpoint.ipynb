{
 "cells": [
  {
   "cell_type": "code",
   "execution_count": 83,
   "metadata": {
    "collapsed": true
   },
   "outputs": [],
   "source": [
    "import glob\n",
    "from os.path import join, basename, splitext, abspath"
   ]
  },
  {
   "cell_type": "code",
   "execution_count": 29,
   "metadata": {
    "collapsed": true
   },
   "outputs": [],
   "source": [
    "def readFrameAnnotation(annotationFile):\n",
    "    \"\"\"\n",
    "        read annotation file\n",
    "        return the list of annotation ([start, end], gesture)\n",
    "    \"\"\"\n",
    "    anno = []\n",
    "    for l in open(annotationFile).read().splitlines():\n",
    "        s = l.split(' ')\n",
    "        anno += [ ([int(s[1]), int(s[2])], int(s[0])-1)]\n",
    "    return anno"
   ]
  },
  {
   "cell_type": "code",
   "execution_count": 78,
   "metadata": {
    "collapsed": true
   },
   "outputs": [],
   "source": [
    "class Annotation:\n",
    "    def __init__(self, annotFile=None):\n",
    "        self.seqs = []\n",
    "        self.gesture = []\n",
    "        \n",
    "        if not annotFile is None:\n",
    "            for l in open(annotFile).read().splitlines():\n",
    "                s = l.split(' ')\n",
    "                self.seqs.append( (int(s[1]), int(s[2])) )\n",
    "                self.gesture.append(int(s[0])-1)\n",
    "    \n",
    "    def addAnnotation(self, annotFile):\n",
    "        for l in open(annotFile).read().splitlines():\n",
    "            s = l.split(' ')\n",
    "            self.seqs.append(int(s[1]), int(s[2]))\n",
    "            self.gesture.append(int(s[0])-1)\n",
    "            \n",
    "    def __len__(self):\n",
    "        return len(self.gesture)\n",
    "    \n",
    "    def __getitem__(self, i):\n",
    "        return self.seqs[i], self.gesture[i]\n",
    "    \n",
    "    def __str__(self):\n",
    "        s = \"Annotation(\"\n",
    "        if len(self) < 5 :\n",
    "            for i in range(len(self)):\n",
    "                s += str(self[i])\n",
    "        else :\n",
    "            s += str(self[0]) + ' ... ' + str(self[-1])\n",
    "        return s +\")\"\n",
    "    \n",
    "    def __repr__(self):\n",
    "        s = \"Annotation(\"\n",
    "        for i in range(len(self)):\n",
    "            s += str(self[i])\n",
    "        return s +\")\""
   ]
  },
  {
   "cell_type": "code",
   "execution_count": 79,
   "metadata": {
    "collapsed": false
   },
   "outputs": [],
   "source": [
    "class VideoDataset:\n",
    "    def __init__(self, folderName):\n",
    "        \"\"\"\n",
    "            Look for all .mp4 files in the folder\n",
    "            The folder must have a annotation folder inside\n",
    "\n",
    "            return a list of [ (video path, annotation) ]\n",
    "        \"\"\"\n",
    "        p = join(folderName, \"*.mp4\")\n",
    "        annoPath = join(folderName, \"annotation\")\n",
    "        \n",
    "        self.annotations = []\n",
    "        self.videoList = []\n",
    "        self.folderName = folderName\n",
    "        \n",
    "        for v in glob.glob(p):\n",
    "            bname = basename(v)\n",
    "            annoFile = join(annoPath, splitext(bname)[0])\n",
    "            anno = Annotation(annoFile)\n",
    "            self.annotations.append(anno)\n",
    "            self.videoList.append(abspath(v)) #to avoid 2 identical files\n",
    "            \n",
    "    def __len__(self):\n",
    "        return len(self.videoList)\n",
    "    \n",
    "    def __getitem__(self, i):\n",
    "        return self.videoList[i], self.annotations[i]\n",
    "    \n",
    "    def __repr__(self):\n",
    "        s = \"VideoDataset(\"\n",
    "        for i in range(len(self)):\n",
    "            s += repr(self[i]) + '\\n'\n",
    "        return s + ')'\n",
    "    \n",
    "    def __str__(self):\n",
    "        s = \"VideoDataset(\"\n",
    "        if len(self) < 5 :\n",
    "            for i in range(len(self)):\n",
    "                s += str(self[i]) + '\\n'\n",
    "        else :\n",
    "            s += str(self[0]) + '\\n'*2 + str(self[1]) \n",
    "            s += '\\n'*2 + ' ... ' + '\\n'*2\n",
    "            s += str(self[-1])\n",
    "        return s + ')'\n",
    "    \n",
    "    def addFolder(self, folder):\n",
    "        p = join(folderName, \"*.mp4\")\n",
    "        for v in glob.glob(p):\n",
    "            bname = basename(v)\n",
    "            if not bname in self.videoList:\n",
    "                annoFile = join(annoPath, splitext(bname)[0])\n",
    "                annotation = Annotation(annoFile)\n",
    "                bself.annotations.append(annotation)\n",
    "                self.videoList.append(abspath(v)) #to avoid 2 identical files"
   ]
  },
  {
   "cell_type": "code",
   "execution_count": 84,
   "metadata": {
    "collapsed": false
   },
   "outputs": [
    {
     "name": "stdout",
     "output_type": "stream",
     "text": [
      "VideoDataset(('/video/Gesture/fR01.mp4', Annotation(((0, 47), 5)((54, 89), 0)((93, 141), 5)((158, 194), 1)((200, 247), 5)((258, 302), 2)((307, 351), 5)((355, 393), 3)((398, 446), 5)((457, 503), 4)((508, 597), 5)((601, 647), 0)((650, 684), 5)((694, 733), 1)((736, 770), 5)((789, 827), 2)((830, 873), 5)((1015, 1056), 3)((1059, 1107), 5)((1112, 1156), 4)((1163, 1210), 5)))\n",
      "\n",
      "('/video/Gesture/fR02.mp4', Annotation(((0, 19), 5)((26, 53), 0)((57, 102), 5)((113, 144), 1)((148, 191), 5)((199, 234), 2)((239, 287), 5)((291, 330), 3)((335, 374), 5)((381, 422), 4)((429, 496), 5)((501, 533), 0)((538, 577), 5)((581, 621), 1)((624, 667), 5)((671, 708), 2)((712, 748), 5)((753, 791), 3)((795, 834), 5)((839, 875), 4)((884, 918), 5)))\n",
      "\n",
      " ... \n",
      "\n",
      "('/video/Gesture/v42.mp4', Annotation(((0, 16), 5)((18, 40), 0)((46, 65), 5)((69, 90), 1)((99, 118), 5)((124, 144), 2)((151, 166), 5)((170, 197), 3)((200, 215), 5)((221, 241), 4)((252, 310), 5)((316, 333), 0)((338, 359), 5)((365, 386), 1)((393, 417), 5)((423, 443), 2)((447, 465), 5)((470, 491), 3)((495, 515), 5)((521, 544), 4)((549, 583), 5))))\n"
     ]
    }
   ],
   "source": [
    "if __name__==\"__main__\":\n",
    "    d = VideoDataset(\"/video/Gesture\")\n",
    "    print(d)"
   ]
  }
 ],
 "metadata": {
  "kernelspec": {
   "display_name": "Python 2",
   "language": "python",
   "name": "python2"
  },
  "language_info": {
   "codemirror_mode": {
    "name": "ipython",
    "version": 2
   },
   "file_extension": ".py",
   "mimetype": "text/x-python",
   "name": "python",
   "nbconvert_exporter": "python",
   "pygments_lexer": "ipython2",
   "version": "2.7.9"
  }
 },
 "nbformat": 4,
 "nbformat_minor": 2
}
