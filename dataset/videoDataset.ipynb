{
 "cells": [
  {
   "cell_type": "code",
   "execution_count": 28,
   "metadata": {
    "collapsed": true
   },
   "outputs": [],
   "source": [
    "import glob\n",
    "from os.path import join, basename, splitext"
   ]
  },
  {
   "cell_type": "code",
   "execution_count": 29,
   "metadata": {
    "collapsed": true
   },
   "outputs": [],
   "source": [
    "def readFrameAnnotation(annotationFile):\n",
    "    \"\"\"\n",
    "        read annotation file\n",
    "        return the list of annotation ([start, end], gesture)\n",
    "    \"\"\"\n",
    "    anno = []\n",
    "    for l in open(annotationFile).read().splitlines():\n",
    "        s = l.split(' ')\n",
    "        anno += [ ([int(s[1]), int(s[2])], int(s[0])-1)]\n",
    "    return anno"
   ]
  },
  {
   "cell_type": "code",
   "execution_count": 70,
   "metadata": {
    "collapsed": true
   },
   "outputs": [],
   "source": [
    "class Annotation:\n",
    "    def __init__(self, annotFile=None):\n",
    "        self.seqs = []\n",
    "        self.gesture = []\n",
    "        \n",
    "        if not annotFile is None:\n",
    "            for l in open(annotFile).read().splitlines():\n",
    "                s = l.split(' ')\n",
    "                self.seqs.append( (int(s[1]), int(s[2])) )\n",
    "                self.gesture.append(int(s[0])-1)\n",
    "    \n",
    "    def addAnnotation(self, annotFile):\n",
    "        for l in open(annotFile).read().splitlines():\n",
    "            s = l.split(' ')\n",
    "            self.seqs.append(int(s[1]), int(s[2]))\n",
    "            self.gesture.append(int(s[0])-1)\n",
    "            \n",
    "    def __len__(self):\n",
    "        return len(self.gesture)\n",
    "    \n",
    "    def __getitem__(self, i):\n",
    "        return self.seqs[i], self.gesture[i]\n",
    "    \n",
    "    def __str__(self):\n",
    "        s = \"Annotation(\"\n",
    "        if len(self) < 5 :\n",
    "            for i in range(len(self)):\n",
    "                s += str(self[i])\n",
    "        else :\n",
    "            s += str(self[0]) + ' ... ' + str(self[-1])\n",
    "        return s +\")\"\n",
    "    \n",
    "    def __repr__(self):\n",
    "        s = \"Annotation(\"\n",
    "        for i in range(len(self)):\n",
    "            s += str(self[i])\n",
    "        return s +\")\""
   ]
  },
  {
   "cell_type": "code",
   "execution_count": 76,
   "metadata": {
    "collapsed": false
   },
   "outputs": [],
   "source": [
    "class VideoDataset:\n",
    "    def __init__(self, folderName):\n",
    "        \"\"\"\n",
    "            Look for all .mp4 files in the folder\n",
    "            The folder must have a annotation folder inside\n",
    "\n",
    "            return a list of [ (video path, annotation) ]\n",
    "        \"\"\"\n",
    "        p = join(folderName, \"*.mp4\")\n",
    "        annoPath = join(folderName, \"annotation\")\n",
    "        \n",
    "        self.annotations = []\n",
    "        self.videoList = []\n",
    "        self.folderName = folderName\n",
    "        \n",
    "        for v in glob.glob(p):\n",
    "            bname = basename(v)\n",
    "            annoFile = join(annoPath, splitext(bname)[0])\n",
    "            anno = Annotation(annoFile)\n",
    "            self.annotations.append(anno)\n",
    "            self.videoList.append(bname)\n",
    "            \n",
    "    def __len__(self):\n",
    "        return len(self.videoList)\n",
    "    \n",
    "    def __getitem__(self, i):\n",
    "        return self.videoList[i], self.annotations[i]\n",
    "    \n",
    "    def __repr__(self):\n",
    "        s = \"VideoDataset(\"\n",
    "        for i in range(len(self)):\n",
    "            s += repr(self[i]) + '\\n'\n",
    "        return s + ')'\n",
    "    \n",
    "    def __str__(self):\n",
    "        s = \"VideoDataset(\"\n",
    "        if len(self) < 5 :\n",
    "            for i in range(len(self)):\n",
    "                s += str(self[i]) + '\\n'\n",
    "        else :\n",
    "            s += str(self[0]) + '\\n'*2 + str(self[1]) \n",
    "            s += '\\n'*2 + ' ... ' + '\\n'*2\n",
    "            s += str(self[-1])\n",
    "        return s + ')'\n",
    "    \n",
    "    def addFolder(self, folder):\n",
    "        p = join(folderName, \"*.mp4\")\n",
    "        for v in glob.glob(p):\n",
    "            bname = basename(v)\n",
    "            if not bname in self.videoList:\n",
    "                annoFile = join(annoPath, splitext(bname)[0])\n",
    "                annotation = Annotation(annoFile)\n",
    "                self.annotations.append(annotation)\n",
    "                self.videoList.append(bname)"
   ]
  }
 ],
 "metadata": {
  "kernelspec": {
   "display_name": "Python 2",
   "language": "python",
   "name": "python2"
  },
  "language_info": {
   "codemirror_mode": {
    "name": "ipython",
    "version": 2
   },
   "file_extension": ".py",
   "mimetype": "text/x-python",
   "name": "python",
   "nbconvert_exporter": "python",
   "pygments_lexer": "ipython2",
   "version": "2.7.9"
  }
 },
 "nbformat": 4,
 "nbformat_minor": 2
}
