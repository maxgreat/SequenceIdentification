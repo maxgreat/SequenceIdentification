{
 "cells": [
  {
   "cell_type": "code",
   "execution_count": 19,
   "metadata": {
    "collapsed": true,
    "deletable": true,
    "editable": true
   },
   "outputs": [],
   "source": [
    "import glob\n",
    "from os.path import join, basename, splitext, abspath"
   ]
  },
  {
   "cell_type": "code",
   "execution_count": 20,
   "metadata": {
    "collapsed": true,
    "deletable": true,
    "editable": true
   },
   "outputs": [],
   "source": [
    "def readFrameAnnotation(annotationFile):\n",
    "    \"\"\"\n",
    "        read annotation file\n",
    "        return the list of annotation ([start, end], gesture)\n",
    "    \"\"\"\n",
    "    anno = []\n",
    "    for l in open(annotationFile).read().splitlines():\n",
    "        s = l.split(' ')\n",
    "        anno += [ ([int(s[1]), int(s[2])], int(s[0])-1)]\n",
    "    return anno"
   ]
  },
  {
   "cell_type": "code",
   "execution_count": 18,
   "metadata": {
    "collapsed": true,
    "deletable": true,
    "editable": true
   },
   "outputs": [],
   "source": [
    "class Annotation:\n",
    "    def __init__(self, annotFile=None):\n",
    "        self.seqs = []\n",
    "        self.gesture = []\n",
    "        \n",
    "        if not annotFile is None:\n",
    "            for l in open(annotFile).read().splitlines():\n",
    "                s = l.split(' ')\n",
    "                self.seqs.append( (int(s[1]), int(s[2])) )\n",
    "                self.gesture.append(int(s[0])-1)\n",
    "    \n",
    "    def addAnnotation(self, annotFile):\n",
    "        for l in open(annotFile).read().splitlines():\n",
    "            s = l.split(' ')\n",
    "            self.seqs.append(int(s[1]), int(s[2]))\n",
    "            self.gesture.append(int(s[0])-1)\n",
    "            \n",
    "    def __len__(self):\n",
    "        return len(self.gesture)\n",
    "    \n",
    "    def __getitem__(self, i):\n",
    "        return self.seqs[i], self.gesture[i]\n",
    "    \n",
    "    def __str__(self):\n",
    "        s = \"Annotation(\"\n",
    "        if len(self) < 5 :\n",
    "            for i in range(len(self)):\n",
    "                s += str(self[i])\n",
    "        else :\n",
    "            s += str(self[0]) + ' ... ' + str(self[-1])\n",
    "        return s +\")\"\n",
    "    \n",
    "    def __repr__(self):\n",
    "        s = \"Annotation(\"\n",
    "        for i in range(len(self)):\n",
    "            s += str(self[i])\n",
    "        return s +\")\""
   ]
  },
  {
   "cell_type": "code",
   "execution_count": 17,
   "metadata": {
    "collapsed": false,
    "deletable": true,
    "editable": true
   },
   "outputs": [],
   "source": [
    "class VideoDataset:\n",
    "    def __init__(self, folderName):\n",
    "        \"\"\"\n",
    "            Look for all .mp4 files in the folder\n",
    "            The folder must have a annotation folder inside\n",
    "\n",
    "            return a list of [ (video path, annotation) ]\n",
    "        \"\"\"\n",
    "        p = join(folderName, \"*.mp4\")\n",
    "        annoPath = join(folderName, \"annotation\")\n",
    "        \n",
    "        self.annotations = []\n",
    "        self.videoList = []\n",
    "        self.folderName = folderName\n",
    "        \n",
    "        for v in glob.glob(p):\n",
    "            bname = basename(v)\n",
    "            annoFile = join(annoPath, splitext(bname)[0])\n",
    "            anno = Annotation(annoFile)\n",
    "            self.annotations.append(anno)\n",
    "            self.videoList.append(abspath(v)) #to avoid 2 identical files\n",
    "            \n",
    "    def __len__(self):\n",
    "        return len(self.videoList)\n",
    "    \n",
    "    def __getitem__(self, i):\n",
    "        return self.videoList[i], self.annotations[i]\n",
    "    \n",
    "    def __repr__(self):\n",
    "        s = \"VideoDataset(\"\n",
    "        for i in range(len(self)):\n",
    "            s += repr(self[i]) + '\\n'\n",
    "        return s + ')'\n",
    "    \n",
    "    def shuffle(self):\n",
    "        \"\"\"\n",
    "            Inplace shuffle\n",
    "        \"\"\"\n",
    "        from random import shuffle\n",
    "        l = list(zip(self.videoList, self.annotations))\n",
    "        shuffle(l)\n",
    "        self.videoList, self.annotations = zip(*l)\n",
    "    \n",
    "    def __str__(self):\n",
    "        s = \"VideoDataset(\"\n",
    "        if len(self) < 5 :\n",
    "            for i in range(len(self)):\n",
    "                s += str(self[i]) + '\\n'\n",
    "        else :\n",
    "            s += str(self[0]) + '\\n'*2 + str(self[1]) \n",
    "            s += '\\n'*2 + ' ... ' + '\\n'*2\n",
    "            s += str(self[-1])\n",
    "        return s + ')'\n",
    "    \n",
    "    def addFolder(self, folder):\n",
    "        p = join(folderName, \"*.mp4\")\n",
    "        for v in glob.glob(p):\n",
    "            bname = basename(v)\n",
    "            if not bname in self.videoList:\n",
    "                annoFile = join(annoPath, splitext(bname)[0])\n",
    "                annotation = Annotation(annoFile)\n",
    "                bself.annotations.append(annotation)\n",
    "                self.videoList.append(abspath(v)) #to avoid 2 identical files"
   ]
  },
  {
   "cell_type": "code",
   "execution_count": 100,
   "metadata": {
    "collapsed": false,
    "deletable": true,
    "editable": true
   },
   "outputs": [
    {
     "name": "stdout",
     "output_type": "stream",
     "text": [
      "VideoDataset(('/video/Gesture/fR01.mp4', Annotation(((0, 47), 5)((54, 89), 0)((93, 141), 5)((158, 194), 1)((200, 247), 5)((258, 302), 2)((307, 351), 5)((355, 393), 3)((398, 446), 5)((457, 503), 4)((508, 597), 5)((601, 647), 0)((650, 684), 5)((694, 733), 1)((736, 770), 5)((789, 827), 2)((830, 873), 5)((1015, 1056), 3)((1059, 1107), 5)((1112, 1156), 4)((1163, 1210), 5)))\n",
      "\n",
      "('/video/Gesture/fR02.mp4', Annotation(((0, 19), 5)((26, 53), 0)((57, 102), 5)((113, 144), 1)((148, 191), 5)((199, 234), 2)((239, 287), 5)((291, 330), 3)((335, 374), 5)((381, 422), 4)((429, 496), 5)((501, 533), 0)((538, 577), 5)((581, 621), 1)((624, 667), 5)((671, 708), 2)((712, 748), 5)((753, 791), 3)((795, 834), 5)((839, 875), 4)((884, 918), 5)))\n",
      "\n",
      " ... \n",
      "\n",
      "('/video/Gesture/v42.mp4', Annotation(((0, 16), 5)((18, 40), 0)((46, 65), 5)((69, 90), 1)((99, 118), 5)((124, 144), 2)((151, 166), 5)((170, 197), 3)((200, 215), 5)((221, 241), 4)((252, 310), 5)((316, 333), 0)((338, 359), 5)((365, 386), 1)((393, 417), 5)((423, 443), 2)((447, 465), 5)((470, 491), 3)((495, 515), 5)((521, 544), 4)((549, 583), 5))))\n",
      "VideoDataset(('/video/Gesture/v15.mp4', Annotation(((0, 20), 5)((26, 51), 0)((56, 78), 5)((84, 107), 1)((117, 135), 5)((143, 165), 2)((175, 193), 5)((199, 224), 3)((231, 248), 5)((256, 278), 4)((292, 361), 5)((367, 387), 0)((394, 414), 5)((423, 443), 1)((453, 479), 5)((485, 511), 2)((520, 544), 5)((549, 576), 3)((581, 606), 5)((616, 638), 4)((644, 677), 5)))\n",
      "\n",
      "('/video/Gesture/v11.mp4', Annotation(((0, 34), 5)((38, 62), 0)((73, 89), 5)((94, 120), 1)((132, 149), 5)((154, 181), 2)((192, 207), 5)((212, 244), 3)((250, 266), 5)((273, 304), 4)((311, 379), 5)((384, 410), 0)((417, 444), 5)((451, 472), 1)((482, 506), 5)((510, 536), 2)((545, 569), 5)((573, 605), 3)((610, 633), 5)((639, 666), 4)((673, 715), 5)))\n",
      "\n",
      " ... \n",
      "\n",
      "('/video/Gesture/jR13.mp4', Annotation(((0, 12), 5)((16, 45), 0)((50, 86), 5)((90, 117), 1)((122, 152), 5)((155, 182), 2)((187, 215), 5)((218, 250), 3)((254, 278), 5)((283, 310), 4)((315, 362), 5)((366, 400), 0)((405, 434), 5)((438, 465), 1)((475, 507), 5)((510, 541), 2)((545, 574), 5)((580, 610), 3)((615, 639), 5)((643, 669), 4)((674, 691), 5))))\n"
     ]
    }
   ],
   "source": [
    "if __name__==\"__main__\":\n",
    "    d = VideoDataset(\"/video/Gesture\")\n",
    "    print(d)\n",
    "    d.suffle()\n",
    "    print(d)"
   ]
  },
  {
   "cell_type": "code",
   "execution_count": 28,
   "metadata": {
    "collapsed": true
   },
   "outputs": [],
   "source": [
    "def cutSequence(srcDir=\"/video/Gesture\", destDir=\"/video/GestureSequence/\"):\n",
    "    \"\"\"\n",
    "        Cut all videos from srcDir into the destDir\n",
    "        \n",
    "        Each sequence will go in the subrepository corresponding to the class inside destDir\n",
    "    \"\"\"\n",
    "    import cv2\n",
    "    import os\n",
    "    import os.path\n",
    "    \n",
    "    videoDataset = VideoDataset(srcDir)\n",
    "    \n",
    "    videoNumber = 0\n",
    "    for video, annotation in videoDataset:\n",
    "        vCap = cv2.VideoCapture(video)\n",
    "        cframe = 0\n",
    "        \n",
    "        annoNumber = 0\n",
    "        for (s0, s1), g in annotation:\n",
    "            while cframe <= s0:\n",
    "                cframe += 1\n",
    "            \n",
    "            fourcc = cv2.VideoWriter_fourcc(*\"XVID\")\n",
    "            videoName = str(videoNumber)+\"-\"+str(annoNumber)+\".avi\"\n",
    "            videoDir = os.path.join(destDir, str(g))\n",
    "            if not os.path.isdir(videoDir):\n",
    "                os.mkdir(videoDir)\n",
    "            videoName = os.path.join(videoDir, videoName)\n",
    "            record = cv2.VideoWriter(videoName, fourcc, 30, (int(vCap.get(3)), int(vCap.get(4))))\n",
    "            \n",
    "            while cframe <= s1:\n",
    "                ret, frame = vCap.read()\n",
    "                if ret:\n",
    "                    record.write(frame)\n",
    "                else:\n",
    "                    return -1\n",
    "                cframe +=1\n",
    "            \n",
    "            \n",
    "            annoNumber +=1\n",
    "        videoNumber += 1\n",
    "    "
   ]
  },
  {
   "cell_type": "code",
   "execution_count": null,
   "metadata": {
    "collapsed": false,
    "scrolled": true
   },
   "outputs": [],
   "source": [
    "if __name__ == \"__main__\":\n",
    "    cutSequence()"
   ]
  },
  {
   "cell_type": "code",
   "execution_count": 25,
   "metadata": {
    "collapsed": false
   },
   "outputs": [
    {
     "name": "stdout",
     "output_type": "stream",
     "text": [
      "Help on built-in function VideoWriter:\n",
      "\n",
      "VideoWriter(...)\n",
      "    VideoWriter([filename, fourcc, fps, frameSize[, isColor]]) -> <VideoWriter object>\n",
      "\n"
     ]
    }
   ],
   "source": [
    "help(cv2.VideoWriter)"
   ]
  }
 ],
 "metadata": {
  "kernelspec": {
   "display_name": "Python 2",
   "language": "python",
   "name": "python2"
  },
  "language_info": {
   "codemirror_mode": {
    "name": "ipython",
    "version": 2
   },
   "file_extension": ".py",
   "mimetype": "text/x-python",
   "name": "python",
   "nbconvert_exporter": "python",
   "pygments_lexer": "ipython2",
   "version": "2.7.9"
  }
 },
 "nbformat": 4,
 "nbformat_minor": 2
}
