{
 "cells": [
  {
   "cell_type": "code",
   "execution_count": 12,
   "metadata": {
    "collapsed": false,
    "deletable": true,
    "editable": true
   },
   "outputs": [],
   "source": [
    "import glob\n",
    "import os.path\n",
    "import torch.utils.data as data"
   ]
  },
  {
   "cell_type": "code",
   "execution_count": 6,
   "metadata": {
    "collapsed": true,
    "deletable": true,
    "editable": true
   },
   "outputs": [],
   "source": [
    "class GenericDataset(data.Dataset):\n",
    "    \"\"\"\n",
    "        A generic dataset folder where elements are organized this way :\n",
    "            folder/class1/element1\n",
    "            folder/class1/element2\n",
    "                ...\n",
    "            folder/class2/element1\n",
    "                ...\n",
    "        \n",
    "        Provide fileOperation and targetOperation to open file and target accordingly\n",
    "    \"\"\"\n",
    "    \n",
    "    \n",
    "    def __init__(self, folderName, exts=['.avi'], fileOperation=None, targetOperation=None):\n",
    "        self.fileOperation=fileOperation\n",
    "        self.targetOperation=targetOperation\n",
    "        \n",
    "        self.seqList = []\n",
    "        self.classList = {}\n",
    "        \n",
    "        for ext in exts:\n",
    "            for f in glob.glob(os.path.join(folderName, '*')):\n",
    "                if os.path.isdir(f):\n",
    "                    c = str(os.path.basename(f))\n",
    "                    for s in glob.glob(os.path.join(f, '*'+ext)):\n",
    "                        self.seqList.append(s)\n",
    "                        self.classList[s] = c\n",
    "        \n",
    "    def __getitem__(self, i):\n",
    "        e = self.seqList[i]\n",
    "        c = self.classList[self.seqList[i]]\n",
    "        \n",
    "        if self.fileOperation is not None : \n",
    "            e = self.fileOperation(e)\n",
    "        if self.targetOperation is not None : \n",
    "            c = self.targetOperation(c)\n",
    "            \n",
    "        return e,c \n",
    "        \n",
    "    def __len__(self):\n",
    "        return len(self.seqList)\n",
    "    \n",
    "    def __str__(self):\n",
    "        s = \"SequenceDataset(\"\n",
    "        if len(self) < 5 :\n",
    "            for seq, c in self:\n",
    "                s += seq +':'+ str(c) + '\\n'\n",
    "        else :\n",
    "            s += str(self[0]) + '\\n'*2 + str(self[1]) \n",
    "            s += '\\n'*2 + ' ... ' + '\\n'*2\n",
    "            s += str(self[-1])\n",
    "        return s + ')'"
   ]
  }
 ],
 "metadata": {
  "kernelspec": {
   "display_name": "Python 2",
   "language": "python",
   "name": "python2"
  },
  "language_info": {
   "codemirror_mode": {
    "name": "ipython",
    "version": 2
   },
   "file_extension": ".py",
   "mimetype": "text/x-python",
   "name": "python",
   "nbconvert_exporter": "python",
   "pygments_lexer": "ipython2",
   "version": "2.7.9"
  }
 },
 "nbformat": 4,
 "nbformat_minor": 2
}
