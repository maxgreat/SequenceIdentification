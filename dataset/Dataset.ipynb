{
 "cells": [
  {
   "cell_type": "code",
   "execution_count": 1,
   "metadata": {
    "collapsed": false,
    "deletable": true,
    "editable": true
   },
   "outputs": [],
   "source": [
    "import glob\n",
    "import os.path\n",
    "import torch.utils.data as data"
   ]
  },
  {
   "cell_type": "code",
   "execution_count": 6,
   "metadata": {
    "collapsed": true,
    "deletable": true,
    "editable": true
   },
   "outputs": [],
   "source": [
    "class GenericDataset(data.Dataset):\n",
    "    \"\"\"\n",
    "        A generic dataset folder where elements are organized this way :\n",
    "            folder/class1/element1\n",
    "            folder/class1/element2\n",
    "                ...\n",
    "            folder/class2/element1\n",
    "                ...\n",
    "        \n",
    "        Provide fileOperation and targetOperation to open file and target accordingly\n",
    "    \"\"\"\n",
    "    \n",
    "    \n",
    "    def __init__(self, folderName, exts=['.avi'], fileOperation=None, targetOperation=None):\n",
    "        self.fileOperation=fileOperation\n",
    "        self.targetOperation=targetOperation\n",
    "        \n",
    "        self.seqList = []\n",
    "        self.classList = {}\n",
    "        \n",
    "        for ext in exts:\n",
    "            for f in glob.glob(os.path.join(folderName, '*')):\n",
    "                if os.path.isdir(f):\n",
    "                    c = str(os.path.basename(f))\n",
    "                    for s in glob.glob(os.path.join(f, '*'+ext)):\n",
    "                        self.seqList.append(s)\n",
    "                        self.classList[s] = c\n",
    "        \n",
    "    def __getitem__(self, i):\n",
    "        e = self.seqList[i]\n",
    "        c = self.classList[self.seqList[i]]\n",
    "        \n",
    "        if self.fileOperation is not None : \n",
    "            e = self.fileOperation(e)\n",
    "        if self.targetOperation is not None : \n",
    "            c = self.targetOperation(c)\n",
    "            \n",
    "        return e,c \n",
    "        \n",
    "    def __len__(self):\n",
    "        return len(self.seqList)\n",
    "    \n",
    "    def __str__(self):\n",
    "        s = \"SequenceDataset(\"\n",
    "        if len(self) < 5 :\n",
    "            for seq, c in self:\n",
    "                s += seq +':'+ str(c) + '\\n'\n",
    "        else :\n",
    "            s += str(self[0]) + '\\n'*2 + str(self[1]) \n",
    "            s += '\\n'*2 + ' ... ' + '\\n'*2\n",
    "            s += str(self[-1])\n",
    "        return s + ')'"
   ]
  },
  {
   "cell_type": "code",
   "execution_count": 1,
   "metadata": {
    "collapsed": false,
    "deletable": true,
    "editable": true
   },
   "outputs": [
    {
     "ename": "NameError",
     "evalue": "name 'data' is not defined",
     "output_type": "error",
     "traceback": [
      "\u001b[0;31m---------------------------------------------------------------------------\u001b[0m",
      "\u001b[0;31mNameError\u001b[0m                                 Traceback (most recent call last)",
      "\u001b[0;32m<ipython-input-1-29a72a96599d>\u001b[0m in \u001b[0;36m<module>\u001b[0;34m()\u001b[0m\n\u001b[0;32m----> 1\u001b[0;31m \u001b[0;32mclass\u001b[0m \u001b[0mGenericDatasetFromFile\u001b[0m\u001b[0;34m(\u001b[0m\u001b[0mdata\u001b[0m\u001b[0;34m.\u001b[0m\u001b[0mDataset\u001b[0m\u001b[0;34m)\u001b[0m\u001b[0;34m:\u001b[0m\u001b[0;34m\u001b[0m\u001b[0m\n\u001b[0m\u001b[1;32m      2\u001b[0m     \"\"\"\n\u001b[1;32m      3\u001b[0m \u001b[0;34m\u001b[0m\u001b[0m\n\u001b[1;32m      4\u001b[0m     \"\"\"\n\u001b[1;32m      5\u001b[0m     \u001b[0;32mdef\u001b[0m \u001b[0m__init__\u001b[0m\u001b[0;34m(\u001b[0m\u001b[0mself\u001b[0m\u001b[0;34m,\u001b[0m \u001b[0mfileName\u001b[0m\u001b[0;34m,\u001b[0m \u001b[0mbaseDir\u001b[0m\u001b[0;34m,\u001b[0m \u001b[0mparsingOperation\u001b[0m\u001b[0;34m,\u001b[0m \u001b[0mfileOperation\u001b[0m\u001b[0;34m,\u001b[0m \u001b[0mtargetOperation\u001b[0m\u001b[0;34m)\u001b[0m\u001b[0;34m:\u001b[0m\u001b[0;34m\u001b[0m\u001b[0m\n",
      "\u001b[0;31mNameError\u001b[0m: name 'data' is not defined"
     ]
    }
   ],
   "source": [
    "class GenericDatasetFromFile(data.Dataset):\n",
    "    \"\"\"\n",
    "        \n",
    "    \"\"\"\n",
    "    def __init__(self, fileName, baseDir, parsingOperation, fileOperation, targetOperation):\n",
    "        self.fileOperation=fileOperation\n",
    "        self.targetOperation=targetOperation\n",
    "        self.baseDir = baseDir\n",
    "        \n",
    "        self.fList = []\n",
    "        self.classList = {}\n",
    "        \n",
    "        for line in open(fileName).read().splitlines():\n",
    "            lparse = parsingOperation(line)\n",
    "            if len(lparse) < 2:\n",
    "                print(\"Error reagind line : \", line)\n",
    "                continue\n",
    "            fName, className = lparse[0], lparse[1]\n",
    "            self.fList.append(fName)\n",
    "            self.classList[fName] = className\n",
    "        \n",
    "    def __getitem__(self, i):\n",
    "        e = self.fList[i]\n",
    "        c = self.classList[e]\n",
    "        \n",
    "        return self.fileOperation(os.path.join(self.baseDir, e)), self.targetOperation(c)\n",
    "        \n",
    "    def __len__(self):\n",
    "        return len(self.fList)\n",
    "    \n",
    "    def __str__(self):\n",
    "        s = \"SequenceDataset(\"\n",
    "        if len(self) < 5 :\n",
    "            for seq, c in self:\n",
    "                s += seq +':'+ str(c) + '\\n'\n",
    "        else :\n",
    "            s += str(self[0]) + '\\n'*2 + str(self[1]) \n",
    "            s += '\\n'*2 + ' ... ' + '\\n'*2\n",
    "            s += str(self[-1])\n",
    "        return s + ')'"
   ]
  },
  {
   "cell_type": "code",
   "execution_count": 13,
   "metadata": {
    "collapsed": true,
    "deletable": true,
    "editable": true
   },
   "outputs": [],
   "source": [
    "def testDatasetFromFile():\n",
    "    fileName         = \"/video/twentybn/jester-v1-train.csv\"\n",
    "    baseDir          = \"/video/twentybn/20bn-jester-v1/\"\n",
    "    parsingOperation = lambda x:x.split(\";\")\n",
    "    fileOperation    = lambda x:x\n",
    "    targetOperation  = lambda x:x\n",
    "    d = GenericDatasetFromFile(\"/video/twentybn/jester-v1-train.csv\", baseDir, parsingOperation, fileOperation, targetOperation)\n",
    "    print(d)"
   ]
  },
  {
   "cell_type": "code",
   "execution_count": 12,
   "metadata": {
    "collapsed": false,
    "deletable": true,
    "editable": true
   },
   "outputs": [
    {
     "name": "stdout",
     "output_type": "stream",
     "text": [
      "SequenceDataset(('/video/twentybn/20bn-jester-v1/34870', 'Drumming Fingers')\n",
      "\n",
      "('/video/twentybn/20bn-jester-v1/56557', 'Sliding Two Fingers Right')\n",
      "\n",
      " ... \n",
      "\n",
      "('/video/twentybn/20bn-jester-v1/4502', 'Sliding Two Fingers Up'))\n"
     ]
    }
   ],
   "source": [
    "if __name__=='__main__':\n",
    "    testDatasetFromFile()"
   ]
  }
 ],
 "metadata": {
  "kernelspec": {
   "display_name": "Python 2",
   "language": "python",
   "name": "python2"
  },
  "language_info": {
   "codemirror_mode": {
    "name": "ipython",
    "version": 2
   },
   "file_extension": ".py",
   "mimetype": "text/x-python",
   "name": "python",
   "nbconvert_exporter": "python",
   "pygments_lexer": "ipython2",
   "version": "2.7.9"
  }
 },
 "nbformat": 4,
 "nbformat_minor": 2
}
