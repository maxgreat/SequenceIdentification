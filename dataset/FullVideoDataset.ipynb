{
 "cells": [
  {
   "cell_type": "code",
   "execution_count": 10,
   "metadata": {
    "collapsed": true
   },
   "outputs": [],
   "source": [
    "from __future__ import print_function"
   ]
  },
  {
   "cell_type": "code",
   "execution_count": 11,
   "metadata": {
    "collapsed": true,
    "deletable": true,
    "editable": true
   },
   "outputs": [],
   "source": [
    "import glob\n",
    "from os.path import join, basename, splitext, abspath\n",
    "import cv2"
   ]
  },
  {
   "cell_type": "code",
   "execution_count": 12,
   "metadata": {
    "collapsed": true,
    "deletable": true,
    "editable": true
   },
   "outputs": [],
   "source": [
    "def readFrameAnnotation(annotationFile):\n",
    "    \"\"\"\n",
    "        read annotation file\n",
    "        return the list of annotation ([start, end], gesture)\n",
    "    \"\"\"\n",
    "    anno = []\n",
    "    for l in open(annotationFile).read().splitlines():\n",
    "        s = l.split(' ')\n",
    "        anno += [ ([int(s[1]), int(s[2])], int(s[0])-1)]\n",
    "    return anno"
   ]
  },
  {
   "cell_type": "code",
   "execution_count": 13,
   "metadata": {
    "collapsed": true,
    "deletable": true,
    "editable": true
   },
   "outputs": [],
   "source": [
    "class Annotation:\n",
    "    def __init__(self, annotFile=None):\n",
    "        self.seqs = []\n",
    "        self.gesture = []\n",
    "        \n",
    "        if not annotFile is None:\n",
    "            for l in open(annotFile).read().splitlines():\n",
    "                s = l.split(' ')\n",
    "                self.seqs.append( (int(s[1]), int(s[2])) )\n",
    "                self.gesture.append(int(s[0])-1)\n",
    "    \n",
    "    def addAnnotation(self, annotFile):\n",
    "        for l in open(annotFile).read().splitlines():\n",
    "            s = l.split(' ')\n",
    "            self.seqs.append(int(s[1]), int(s[2]))\n",
    "            self.gesture.append(int(s[0])-1)\n",
    "            \n",
    "    def __len__(self):\n",
    "        return len(self.gesture)\n",
    "    \n",
    "    def __getitem__(self, i):\n",
    "        return self.seqs[i], self.gesture[i]\n",
    "    \n",
    "    def __str__(self):\n",
    "        s = \"Annotation(\"\n",
    "        if len(self) < 5 :\n",
    "            for i in range(len(self)):\n",
    "                s += str(self[i])\n",
    "        else :\n",
    "            s += str(self[0]) + ' ... ' + str(self[-1])\n",
    "        return s +\")\"\n",
    "    \n",
    "    def __repr__(self):\n",
    "        s = \"Annotation(\"\n",
    "        for i in range(len(self)):\n",
    "            s += str(self[i])\n",
    "        return s +\")\""
   ]
  },
  {
   "cell_type": "code",
   "execution_count": 14,
   "metadata": {
    "collapsed": false,
    "deletable": true,
    "editable": true
   },
   "outputs": [],
   "source": [
    "class VideoDataset:\n",
    "    def __init__(self, folderName):\n",
    "        \"\"\"\n",
    "            Look for all .mp4 files in the folder\n",
    "            The folder must have a annotation folder inside\n",
    "\n",
    "            return a list of [ (video path, annotation) ]\n",
    "        \"\"\"\n",
    "        p = join(folderName, \"*.mp4\")\n",
    "        annoPath = join(folderName, \"annotation\")\n",
    "        \n",
    "        self.annotations = []\n",
    "        self.videoList = []\n",
    "        self.folderName = folderName\n",
    "        \n",
    "        for v in glob.glob(p):\n",
    "            bname = basename(v)\n",
    "            annoFile = join(annoPath, splitext(bname)[0])\n",
    "            anno = Annotation(annoFile)\n",
    "            self.annotations.append(anno)\n",
    "            self.videoList.append(abspath(v)) #to avoid 2 identical files\n",
    "            \n",
    "    def __len__(self):\n",
    "        return len(self.videoList)\n",
    "    \n",
    "    def __getitem__(self, i):\n",
    "        return self.videoList[i], self.annotations[i]\n",
    "    \n",
    "    def __repr__(self):\n",
    "        s = \"VideoDataset(\"\n",
    "        for i in range(len(self)):\n",
    "            s += repr(self[i]) + '\\n'\n",
    "        return s + ')'\n",
    "    \n",
    "    def shuffle(self):\n",
    "        \"\"\"\n",
    "            Inplace shuffle\n",
    "        \"\"\"\n",
    "        from random import shuffle\n",
    "        l = list(zip(self.videoList, self.annotations))\n",
    "        shuffle(l)\n",
    "        self.videoList, self.annotations = zip(*l)\n",
    "    \n",
    "    def __str__(self):\n",
    "        s = \"VideoDataset(\"\n",
    "        if len(self) < 5 :\n",
    "            for i in range(len(self)):\n",
    "                s += str(self[i]) + '\\n'\n",
    "        else :\n",
    "            s += str(self[0]) + '\\n'*2 + str(self[1]) \n",
    "            s += '\\n'*2 + ' ... ' + '\\n'*2\n",
    "            s += str(self[-1])\n",
    "        return s + ')'\n",
    "    \n",
    "    def addFolder(self, folder):\n",
    "        p = join(folderName, \"*.mp4\")\n",
    "        for v in glob.glob(p):\n",
    "            bname = basename(v)\n",
    "            if not bname in self.videoList:\n",
    "                annoFile = join(annoPath, splitext(bname)[0])\n",
    "                annotation = Annotation(annoFile)\n",
    "                bself.annotations.append(annotation)\n",
    "                self.videoList.append(abspath(v)) #to avoid 2 identical files"
   ]
  },
  {
   "cell_type": "code",
   "execution_count": 15,
   "metadata": {
    "collapsed": false,
    "deletable": true,
    "editable": true
   },
   "outputs": [],
   "source": [
    "def AverageSequenceSize():\n",
    "    vd = VideoDataset(\"/video/Gesture/\")\n",
    "    totLength = [0]*6\n",
    "    totNumber = [0]*6\n",
    "    shortestL = 1000\n",
    "    shortestP = 0\n",
    "    longestL = 0\n",
    "    longestP = 0\n",
    "    for videoName, annotation in vd:\n",
    "       for seq, gest in annotation:\n",
    "            totLength[gest] += seq[1]-seq[0]\n",
    "            totNumber[gest] += 1.0\n",
    "            if seq[1] - seq[0] < shortestL and gest != 5:\n",
    "                shortestL = seq[1] - seq[0]\n",
    "                shortestP = gest\n",
    "            if seq[1] - seq[0] > longestL and gest != 5:\n",
    "                longestL = seq[1] - seq[0]\n",
    "                longestP = gest\n",
    "    print(shortestL, shortestP)\n",
    "    print(longestL, longestP)\n",
    "    print([i/totNumber[j] for j,i in enumerate(totLength)])"
   ]
  },
  {
   "cell_type": "code",
   "execution_count": 29,
   "metadata": {
    "collapsed": false,
    "deletable": true,
    "editable": true
   },
   "outputs": [],
   "source": [
    "def cutSequence(srcDir=\"/video/Gesture\", destDir=\"/video/GestureSequence/\"):\n",
    "    \"\"\"\n",
    "        Cut all videos from srcDir into the destDir\n",
    "        \n",
    "        Each sequence will go in the subrepository corresponding to the class inside destDir\n",
    "    \"\"\"\n",
    "    import cv2\n",
    "    import os\n",
    "    import os.path\n",
    "    \n",
    "    videoDataset = VideoDataset(srcDir)\n",
    "    \n",
    "    videoNumber = 0\n",
    "    for video, annotation in videoDataset:\n",
    "        vCap = cv2.VideoCapture(video)\n",
    "        print(\"Handling video :\", video, end=\"\\t\\r\")\n",
    "        annoNumber = 0\n",
    "        for (s0, s1), g in annotation:\n",
    "            cframe = s0\n",
    "            vCap.set(cv2.CAP_PROP_POS_FRAMES,cframe)\n",
    "            \n",
    "            fourcc = cv2.VideoWriter_fourcc(*\"XVID\")\n",
    "            videoName = str(videoNumber)+\"-\"+str(annoNumber)+\".avi\"\n",
    "            videoDir = os.path.join(destDir, str(g))\n",
    "            if not os.path.isdir(videoDir):\n",
    "                os.mkdir(videoDir)\n",
    "            videoName = os.path.join(videoDir, videoName)\n",
    "            record = cv2.VideoWriter(videoName, fourcc, 30, (int(vCap.get(3)), int(vCap.get(4))))\n",
    "            \n",
    "            while cframe <= s1:\n",
    "                ret, frame = vCap.read()\n",
    "                if ret:\n",
    "                    record.write(frame)\n",
    "                else:\n",
    "                    print(\"Video \", video, \" do not have frame\", cframe)\n",
    "                    return -1\n",
    "                cframe +=1\n",
    "            \n",
    "            \n",
    "            annoNumber +=1\n",
    "        videoNumber += 1\n",
    "    "
   ]
  },
  {
   "cell_type": "code",
   "execution_count": 33,
   "metadata": {
    "collapsed": true
   },
   "outputs": [],
   "source": [
    "def DrawGestureOnVideos(srcDir=\"/video/Gesture\", destDir=\".\"):\n",
    "    import cv2\n",
    "    import os\n",
    "    import os.path\n",
    "    \n",
    "    videoDataset = VideoDataset(srcDir)\n",
    "\n",
    "    \n",
    "    \n",
    "    videoNumber = 0\n",
    "    for video, annotation in videoDataset:\n",
    "        if \"gR10.mp4\" in video:\n",
    "            vCap = cv2.VideoCapture(video)\n",
    "            videoName = os.path.join(destDir,\"TEST_VIDEO_WITH_GESTURE.avi\")\n",
    "            fourcc = cv2.VideoWriter_fourcc(*\"XVID\")\n",
    "            record = cv2.VideoWriter(videoName, fourcc, 30, (int(vCap.get(3)), int(vCap.get(4))))\n",
    "\n",
    "            for (s0, s1), g in annotation:\n",
    "                cframe = s0\n",
    "                vCap.set(cv2.CAP_PROP_POS_FRAMES,cframe)\n",
    "\n",
    "                while cframe <= s1:\n",
    "                    ret, frame = vCap.read()\n",
    "                    if ret:\n",
    "                        font = cv2.FONT_HERSHEY_SIMPLEX\n",
    "                        cv2.putText(frame,str(g),(10,500), font, 4,(255,255,255),2,cv2.LINE_AA)\n",
    "                        record.write(frame)\n",
    "                    else:\n",
    "                        print(\"Video \", video, \" do not have frame\", cframe)\n",
    "                        return -1\n",
    "                    cframe +=1\n",
    "\n",
    "            break\n",
    "        print(\"Video \", video)\n",
    "    "
   ]
  },
  {
   "cell_type": "code",
   "execution_count": 37,
   "metadata": {
    "collapsed": false
   },
   "outputs": [
    {
     "data": {
      "text/plain": [
       "0.0"
      ]
     },
     "execution_count": 37,
     "metadata": {},
     "output_type": "execute_result"
    }
   ],
   "source": [
    "if __name__==\"__main__\":\n",
    "    cutSequence()"
   ]
  }
 ],
 "metadata": {
  "kernelspec": {
   "display_name": "Python 2",
   "language": "python",
   "name": "python2"
  },
  "language_info": {
   "codemirror_mode": {
    "name": "ipython",
    "version": 2
   },
   "file_extension": ".py",
   "mimetype": "text/x-python",
   "name": "python",
   "nbconvert_exporter": "python",
   "pygments_lexer": "ipython2",
   "version": "2.7.9"
  }
 },
 "nbformat": 4,
 "nbformat_minor": 2
}
